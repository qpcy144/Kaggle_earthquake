{
 "cells": [
  {
   "cell_type": "code",
   "execution_count": 1,
   "metadata": {
    "collapsed": true
   },
   "outputs": [],
   "source": [
    "import os\n",
    "\n",
    "import pandas as pd\n",
    "import numpy as np\n",
    "import matplotlib.pyplot as plt\n",
    "import seaborn as sns\n",
    "import math\n",
    "\n",
    "from scipy import stats\n",
    "from scipy.signal import hilbert,convolve,hann\n",
    "     \n",
    "from sklearn.linear_model import LinearRegression"
   ]
  },
  {
   "cell_type": "code",
   "execution_count": 2,
   "metadata": {
    "collapsed": true
   },
   "outputs": [],
   "source": [
    "import sys"
   ]
  },
  {
   "cell_type": "code",
   "execution_count": 3,
   "metadata": {
    "collapsed": false
   },
   "outputs": [],
   "source": [
    "import tensorflow as tf"
   ]
  },
  {
   "cell_type": "code",
   "execution_count": 4,
   "metadata": {
    "collapsed": false
   },
   "outputs": [
    {
     "name": "stderr",
     "output_type": "stream",
     "text": [
      "Using TensorFlow backend.\n"
     ]
    }
   ],
   "source": [
    "import keras\n",
    "import keras.backend as K\n",
    "from keras.models import Sequential,Model\n",
    "from keras.layers import LSTM,Dense"
   ]
  },
  {
   "cell_type": "code",
   "execution_count": 5,
   "metadata": {
    "collapsed": true
   },
   "outputs": [],
   "source": [
    "import warnings\n",
    "warnings.filterwarnings('ignore')"
   ]
  },
  {
   "cell_type": "code",
   "execution_count": 6,
   "metadata": {
    "collapsed": true
   },
   "outputs": [],
   "source": [
    "pd.set_option('precision',30)"
   ]
  },
  {
   "cell_type": "code",
   "execution_count": 7,
   "metadata": {
    "collapsed": true
   },
   "outputs": [],
   "source": [
    "train_df=pd.read_csv('F:\\\\Qplus\\\\Kaggle\\\\train.csv',chunksize=5000000,iterator=True,\n",
    "                     dtype={'acoustic_data':np.int16,'time_to_failure':np.float32})"
   ]
  },
  {
   "cell_type": "code",
   "execution_count": 8,
   "metadata": {
    "collapsed": true
   },
   "outputs": [],
   "source": [
    "def create_many_features(xc,seg_id=0):\n",
    "    X=pd.DataFrame(index=[seg_id,])\n",
    "    zc=np.fft.fft(xc)\n",
    "    \n",
    "    X.loc[seg_id,'mean']=xc.mean()\n",
    "    X.loc[seg_id,'std']=xc.std()\n",
    "    X.loc[seg_id,'max']=xc.max()\n",
    "    X.loc[seg_id,'min']=xc.min()\n",
    "    \n",
    "    #FFT transform values\n",
    "    realFFT = np.real(zc)\n",
    "    imagFFT = np.imag(zc)\n",
    "    X.loc[seg_id, 'Rmean'] = realFFT.mean()\n",
    "    X.loc[seg_id, 'Rstd'] = realFFT.std()\n",
    "    X.loc[seg_id, 'Rmax'] = realFFT.max()\n",
    "    X.loc[seg_id, 'Rmin'] = realFFT.min()\n",
    "    X.loc[seg_id, 'Imean'] = imagFFT.mean()\n",
    "    X.loc[seg_id, 'Istd'] = imagFFT.std()\n",
    "    X.loc[seg_id, 'Imax'] = imagFFT.max()\n",
    "    X.loc[seg_id, 'Imin'] = imagFFT.min()\n",
    "    \n",
    "    X.loc[seg_id, 'Rmean_last_5000'] = realFFT[-5000:].mean()\n",
    "    X.loc[seg_id, 'Rstd__last_5000'] = realFFT[-5000:].std()\n",
    "    X.loc[seg_id, 'Rmax_last_5000'] = realFFT[-5000:].max()\n",
    "    X.loc[seg_id, 'Rmin_last_5000'] = realFFT[-5000:].min()\n",
    "    X.loc[seg_id, 'Rmean_last_15000'] = realFFT[-15000:].mean()\n",
    "    X.loc[seg_id, 'Rstd_last_15000'] = realFFT[-15000:].std()\n",
    "    X.loc[seg_id, 'Rmax_last_15000'] = realFFT[-15000:].max()\n",
    "    X.loc[seg_id, 'Rmin_last_15000'] = realFFT[-15000:].min()\n",
    "    \n",
    "    X.loc[seg_id, 'std_first_50000'] = xc[:50000].std()\n",
    "    X.loc[seg_id, 'std_last_50000'] = xc[-50000:].std()\n",
    "    X.loc[seg_id, 'std_first_10000'] = xc[:10000].std()\n",
    "    X.loc[seg_id, 'std_last_10000'] = xc[-10000:].std()\n",
    "    \n",
    "    X.loc[seg_id, 'avg_first_50000'] = xc[:50000].mean()\n",
    "    X.loc[seg_id, 'avg_last_50000'] = xc[-50000:].mean()\n",
    "    X.loc[seg_id, 'avg_first_10000'] = xc[:10000].mean()\n",
    "    X.loc[seg_id, 'avg_last_10000'] = xc[-10000:].mean()\n",
    "    \n",
    "    X.loc[seg_id, 'min_first_50000'] = xc[:50000].min()\n",
    "    X.loc[seg_id, 'min_last_50000'] = xc[-50000:].min()\n",
    "    X.loc[seg_id, 'min_first_10000'] = xc[:10000].min()\n",
    "    X.loc[seg_id, 'min_last_10000'] = xc[-10000:].min()\n",
    "    \n",
    "    X.loc[seg_id, 'max_first_50000'] = xc[:50000].max()\n",
    "    X.loc[seg_id, 'max_last_50000'] = xc[-50000:].max()\n",
    "    X.loc[seg_id, 'max_first_10000'] = xc[:10000].max()\n",
    "    X.loc[seg_id, 'max_last_10000'] = xc[-10000:].max()\n",
    "    \n",
    "    X.loc[seg_id, 'abs_max'] = np.abs(xc).max()\n",
    "    X.loc[seg_id, 'abs_min'] = np.abs(xc).min()\n",
    "    X.loc[seg_id, 'avg_diff'] = np.mean(np.diff(xc))\n",
    "    #X.loc[seg_id, 'avg_diff_rate'] = np.mean(np.nonzero((np.diff(xc) / xc[:-1]))[0]) #seems do not help\n",
    "    \n",
    "    X.loc[seg_id, 'q95'] = np.quantile(xc, 0.95)\n",
    "    X.loc[seg_id, 'q99'] = np.quantile(xc, 0.99)\n",
    "    X.loc[seg_id, 'q05'] = np.quantile(xc, 0.05)\n",
    "    X.loc[seg_id, 'q01'] = np.quantile(xc, 0.01)\n",
    "    \n",
    "    X.loc[seg_id, 'abs_q95'] = np.quantile(np.abs(xc), 0.95)\n",
    "    X.loc[seg_id, 'abs_q99'] = np.quantile(np.abs(xc), 0.99)\n",
    "    X.loc[seg_id, 'abs_q05'] = np.quantile(np.abs(xc), 0.05)\n",
    "    X.loc[seg_id, 'abs_q01'] = np.quantile(np.abs(xc), 0.01)\n",
    "    \n",
    "    X.loc[seg_id, 'trend'] = add_trend_feature(xc)\n",
    "    X.loc[seg_id, 'abs_trend'] = add_trend_feature(xc, abs_values=True)\n",
    "    X.loc[seg_id, 'abs_mean'] = np.abs(xc).mean()\n",
    "    X.loc[seg_id, 'abs_std'] = np.abs(xc).std()\n",
    "    \n",
    "    X.loc[seg_id, 'mad'] = xc.mad()\n",
    "    X.loc[seg_id, 'kurt'] = xc.kurtosis()\n",
    "    X.loc[seg_id, 'skew'] = xc.skew()\n",
    "    X.loc[seg_id, 'med'] = xc.median()\n",
    "    \n",
    "    X.loc[seg_id, 'Hilbert_mean'] = np.abs(hilbert(xc)).mean()\n",
    "    X.loc[seg_id, 'Hann_window_mean'] = (convolve(xc, hann(150), mode='same') / sum(hann(150))).mean()\n",
    "    X.loc[seg_id, 'classic_sta_lta1_mean'] = classic_sta_lta(xc, 500, 10000).mean()\n",
    "    X.loc[seg_id, 'classic_sta_lta2_mean'] = classic_sta_lta(xc, 5000, 100000).mean()\n",
    "    X.loc[seg_id, 'classic_sta_lta3_mean'] = classic_sta_lta(xc, 3333, 6666).mean()\n",
    "    X.loc[seg_id, 'classic_sta_lta4_mean'] = classic_sta_lta(xc, 10000, 25000).mean()\n",
    "    \n",
    "    X.loc[seg_id, 'Moving_average_700_mean'] = xc.rolling(window=700).mean().mean(skipna=True)\n",
    "    X.loc[seg_id, 'Moving_average_1500_mean'] = xc.rolling(window=1500).mean().mean(skipna=True)\n",
    "    X.loc[seg_id, 'Moving_average_3000_mean'] = xc.rolling(window=3000).mean().mean(skipna=True)\n",
    "    X.loc[seg_id, 'Moving_average_6000_mean'] = xc.rolling(window=6000).mean().mean(skipna=True)\n",
    "    \n",
    "    ewma = pd.Series.ewm\n",
    "    X.loc[seg_id, 'exp_Moving_average_300_mean'] = (ewma(xc, span=300).mean()).mean(skipna=True)\n",
    "    X.loc[seg_id, 'exp_Moving_average_3000_mean'] = ewma(xc, span=3000).mean().mean(skipna=True)\n",
    "    X.loc[seg_id, 'exp_Moving_average_30000_mean'] = ewma(xc, span=6000).mean().mean(skipna=True)\n",
    "    \n",
    "    no_of_std = 2\n",
    "    X.loc[seg_id, 'MA_700MA_std_mean'] = xc.rolling(window=700).std().mean()\n",
    "    X.loc[seg_id,'MA_700MA_BB_high_mean'] = (X.loc[seg_id, 'Moving_average_700_mean'] + no_of_std * X.loc[seg_id, 'MA_700MA_std_mean']).mean()\n",
    "    X.loc[seg_id,'MA_700MA_BB_low_mean'] = (X.loc[seg_id, 'Moving_average_700_mean'] - no_of_std * X.loc[seg_id, 'MA_700MA_std_mean']).mean()\n",
    "    \n",
    "    X.loc[seg_id, 'MA_400MA_std_mean'] = xc.rolling(window=400).std().mean()\n",
    "    X.loc[seg_id,'MA_400MA_BB_high_mean'] = (X.loc[seg_id, 'Moving_average_700_mean'] + no_of_std * X.loc[seg_id, 'MA_400MA_std_mean']).mean()\n",
    "    X.loc[seg_id,'MA_400MA_BB_low_mean'] = (X.loc[seg_id, 'Moving_average_700_mean'] - no_of_std * X.loc[seg_id, 'MA_400MA_std_mean']).mean()\n",
    "    X.loc[seg_id, 'MA_1000MA_std_mean'] = xc.rolling(window=1000).std().mean()\n",
    "    \n",
    "    X.loc[seg_id, 'iqr'] = np.subtract(*np.percentile(xc, [75, 25]))\n",
    "    X.loc[seg_id, 'q999'] = np.quantile(xc,0.999)\n",
    "    X.loc[seg_id, 'q001'] = np.quantile(xc,0.001)\n",
    "    X.loc[seg_id, 'ave10'] = stats.trim_mean(xc, 0.1)\n",
    "    \n",
    "    for windows in [10, 100, 1000]:\n",
    "        x_roll_std = xc.rolling(windows).std().dropna().values\n",
    "        x_roll_mean = xc.rolling(windows).mean().dropna().values\n",
    "        \n",
    "        X.loc[seg_id, 'ave_roll_std_' + str(windows)] = x_roll_std.mean()\n",
    "        X.loc[seg_id, 'std_roll_std_' + str(windows)] = x_roll_std.std()\n",
    "        X.loc[seg_id, 'max_roll_std_' + str(windows)] = x_roll_std.max()\n",
    "        X.loc[seg_id, 'min_roll_std_' + str(windows)] = x_roll_std.min()\n",
    "        X.loc[seg_id, 'q01_roll_std_' + str(windows)] = np.quantile(x_roll_std, 0.01)\n",
    "        X.loc[seg_id, 'q05_roll_std_' + str(windows)] = np.quantile(x_roll_std, 0.05)\n",
    "        X.loc[seg_id, 'q95_roll_std_' + str(windows)] = np.quantile(x_roll_std, 0.95)\n",
    "        X.loc[seg_id, 'q99_roll_std_' + str(windows)] = np.quantile(x_roll_std, 0.99)\n",
    "        X.loc[seg_id, 'av_change_abs_roll_std_' + str(windows)] = np.mean(np.diff(x_roll_std))\n",
    "        X.loc[seg_id, 'av_change_rate_roll_std_' + str(windows)] = np.mean(np.nonzero((np.diff(x_roll_std) / x_roll_std[:-1]))[0])\n",
    "        X.loc[seg_id, 'abs_max_roll_std_' + str(windows)] = np.abs(x_roll_std).max()\n",
    "        \n",
    "        X.loc[seg_id, 'ave_roll_mean_' + str(windows)] = x_roll_mean.mean()\n",
    "        X.loc[seg_id, 'std_roll_mean_' + str(windows)] = x_roll_mean.std()\n",
    "        X.loc[seg_id, 'max_roll_mean_' + str(windows)] = x_roll_mean.max()\n",
    "        X.loc[seg_id, 'min_roll_mean_' + str(windows)] = x_roll_mean.min()\n",
    "        X.loc[seg_id, 'q01_roll_mean_' + str(windows)] = np.quantile(x_roll_mean, 0.01)\n",
    "        X.loc[seg_id, 'q05_roll_mean_' + str(windows)] = np.quantile(x_roll_mean, 0.05)\n",
    "        X.loc[seg_id, 'q95_roll_mean_' + str(windows)] = np.quantile(x_roll_mean, 0.95)\n",
    "        X.loc[seg_id, 'q99_roll_mean_' + str(windows)] = np.quantile(x_roll_mean, 0.99)\n",
    "        X.loc[seg_id, 'av_change_abs_roll_mean_' + str(windows)] = np.mean(np.diff(x_roll_mean))\n",
    "        X.loc[seg_id, 'av_change_rate_roll_mean_' + str(windows)] = np.mean(np.nonzero((np.diff(x_roll_mean) / x_roll_mean[:-1]))[0])\n",
    "        X.loc[seg_id, 'abs_max_roll_mean_' + str(windows)] = np.abs(x_roll_mean).max()\n",
    "    return X"
   ]
  },
  {
   "cell_type": "code",
   "execution_count": 9,
   "metadata": {
    "collapsed": true
   },
   "outputs": [],
   "source": [
    "#generate features for a list of acoustic data\n",
    "def gen_features_list(acd_list):\n",
    "    train_features=pd.DataFrame()\n",
    "    for acd in acd_list:\n",
    "        train_features=train_features.append(create_many_features(acd),ignore_index=True)\n",
    "    #print(train_features.shape)\n",
    "    return train_features"
   ]
  },
  {
   "cell_type": "code",
   "execution_count": 10,
   "metadata": {
    "collapsed": true
   },
   "outputs": [],
   "source": [
    "def split_segments(acd_segments,ttf_segments,split_length):\n",
    "    length=len(acd_segments)\n",
    "    #split each complete segements into many small segments\n",
    "    split_segments_index=np.array_split(np.arange(length),length//split_length)\n",
    "    print('the length of this segments is %d'%len(split_segments_index))\n",
    "    acd_split=[]\n",
    "    ttf_split=pd.Series()\n",
    "    for indices in split_segments_index:\n",
    "        acd_split.append(pd.Series(acd_segments[indices]))\n",
    "        ttf_split=ttf_split.append(pd.Series(ttf_segments[indices][-1]),ignore_index=True)\n",
    "    #print(len(acd_split))\n",
    "    return acd_split,ttf_split"
   ]
  },
  {
   "cell_type": "code",
   "execution_count": 11,
   "metadata": {
    "collapsed": true
   },
   "outputs": [],
   "source": [
    "def add_trend_feature(arr,abs_values=False):\n",
    "    index=np.arange(len(arr))\n",
    "    if abs_values:\n",
    "        arr=np.abs(arr)\n",
    "    lr=LinearRegression()\n",
    "    lr.fit(index.reshape(-1,1),arr)\n",
    "    return lr.coef_[0]"
   ]
  },
  {
   "cell_type": "code",
   "execution_count": 12,
   "metadata": {
    "collapsed": true
   },
   "outputs": [],
   "source": [
    "def classic_sta_lta(x,length_sta,length_lta):\n",
    "    sta=np.cumsum(x**2)\n",
    "    sta=np.require(sta,dtype=np.float)\n",
    "    \n",
    "    lta=sta.copy()\n",
    "    \n",
    "    sta[length_sta:]=sta[length_sta:]-sta[:-length_sta]\n",
    "    sta/=length_sta\n",
    "    \n",
    "    lta[length_lta:]=lta[length_lta:]-lta[:-length_lta]\n",
    "    lta/=length_lta\n",
    "    \n",
    "    sta[:length_sta-1]=0\n",
    "    \n",
    "    dtiny=np.finfo(0.0).tiny\n",
    "    idx=lta<dtiny\n",
    "    lta[idx]=dtiny\n",
    "    return sta/lta\n",
    "    \n",
    "    \n",
    "    "
   ]
  },
  {
   "cell_type": "code",
   "execution_count": null,
   "metadata": {
    "collapsed": true
   },
   "outputs": [],
   "source": []
  },
  {
   "cell_type": "code",
   "execution_count": null,
   "metadata": {
    "collapsed": true
   },
   "outputs": [],
   "source": []
  },
  {
   "cell_type": "code",
   "execution_count": 13,
   "metadata": {
    "collapsed": true
   },
   "outputs": [
    {
     "name": "stdout",
     "output_type": "stream",
     "text": [
      "1\n",
      "[656573.]\n",
      "the length of this segments is 56\n",
      "1\n",
      "[85877.]\n",
      "the length of this segments is 444\n",
      "1\n",
      "[4677355.]\n",
      "the length of this segments is 545\n",
      "1\n",
      "[3772452.]\n",
      "the length of this segments is 340\n",
      "1\n",
      "[2641819.]\n",
      "the length of this segments is 488\n",
      "1\n",
      "[3652629.]\n",
      "the length of this segments is 310\n",
      "1\n",
      "[829584.]\n",
      "the length of this segments is 271\n",
      "1\n",
      "[2838916.]\n",
      "the length of this segments is 620\n",
      "1\n",
      "[3276286.]\n",
      "the length of this segments is 304\n",
      "1\n",
      "[377847.]\n",
      "the length of this segments is 371\n",
      "1\n",
      "[4368879.]\n",
      "the length of this segments is 439\n",
      "1\n",
      "[1811622.]\n",
      "the length of this segments is 424\n",
      "1\n",
      "[800224.]\n",
      "the length of this segments is 339\n",
      "1\n",
      "[3777114.]\n",
      "the length of this segments is 329\n",
      "1\n",
      "[568143.]\n",
      "the length of this segments is 567\n",
      "1\n",
      "[1985672.]\n",
      "the length of this segments is 364\n"
     ]
    }
   ],
   "source": [
    "\n",
    "train_X=pd.DataFrame()\n",
    "train_y=pd.Series()\n",
    "acd_to_be_extended=np.array([])\n",
    "ttf_to_be_extended=np.array([])\n",
    "last=math.inf\n",
    "split_length=100000\n",
    "for chunk in train_df:\n",
    "    acd=chunk.acoustic_data.values\n",
    "    ttf=chunk.time_to_failure.values\n",
    "    #split_index=[]   #record the index for segmentation\n",
    "    split_index=np.array([])\n",
    "    if ttf[0]>last:\n",
    "        #split_index.append[0]\n",
    "        acd_split,ttf_split=split_segments(acd_to_be_extended,ttf_to_be_extended,split_length)      \n",
    "        train_X=train_X.append(gen_features_list(acd_split),ignore_index=True)\n",
    "        train_y=train_y.append(ttf_split,ignore_index=True)\n",
    "        acd_to_be_extended=np.array([])\n",
    "        ttf_to_be_extended=np.array([])\n",
    "        \n",
    "    find_split=ttf[1:]>ttf[:-1]\n",
    "    #split_index.append(np.where(find_split))\n",
    "    split_index=np.append(split_index,np.where(find_split))\n",
    "    length=len(split_index.tolist())\n",
    "    if length!=0:     #which means a segment split exists\n",
    "        print(length)\n",
    "        print(split_index)\n",
    "        acd_to_be_extended=np.append(acd_to_be_extended,\n",
    "                                     acd[:int(split_index[0]+1)])\n",
    "        ttf_to_be_extended=np.append(ttf_to_be_extended,ttf[:int(split_index[0]+1)])\n",
    "        acd_split,ttf_split=split_segments(acd_to_be_extended,ttf_to_be_extended,split_length)\n",
    "        train_X=train_X.append(gen_features_list(acd_split),ignore_index=True)\n",
    "        train_y=train_y.append(ttf_split,ignore_index=True)\n",
    "        #print(train_X.describe())\n",
    "        #print(train_y.describe())\n",
    "        acd_to_be_extended=np.array([])\n",
    "        ttf_to_be_extended=np.array([])\n",
    "        \n",
    "        for i in range(length-1):\n",
    "            acd_to_be_extended=acd[int(split_index[i])+1:int(split_index[i+1])+1]\n",
    "            ttf_to_be_extended=ttf[int(split_index[i])+1:int(split_index[i+1])+1]\n",
    "            acd_split,ttf_split=split_segments(acd_to_be_extended,ttf_to_be_extended,split_length)\n",
    "            train_X=train_X.append(gen_features_list(acd_split),ignore_index=True)\n",
    "            train_y=train_y.append(ttf_split,ignore_index=True)\n",
    "            acd_to_be_extended=np.array([])\n",
    "            ttf_to_be_extended=np.array([])\n",
    "        acd_to_be_extended=acd[int(split_index[-1]):]\n",
    "        ttf_to_be_extended=ttf[int(split_index[-1]):]\n",
    "        \n",
    "    else:\n",
    "        acd_to_be_extended=np.append(acd_to_be_extended,acd)\n",
    "        ttf_to_be_extended=np.append(ttf_to_be_extended,ttf)\n",
    "    last=ttf[-1]"
   ]
  },
  {
   "cell_type": "code",
   "execution_count": 14,
   "metadata": {
    "collapsed": false
   },
   "outputs": [
    {
     "data": {
      "text/plain": [
       "(6211, 145)"
      ]
     },
     "execution_count": 14,
     "metadata": {},
     "output_type": "execute_result"
    }
   ],
   "source": [
    "train_X.shape"
   ]
  },
  {
   "cell_type": "code",
   "execution_count": 15,
   "metadata": {
    "collapsed": false
   },
   "outputs": [
    {
     "data": {
      "text/html": [
       "<div>\n",
       "<style scoped>\n",
       "    .dataframe tbody tr th:only-of-type {\n",
       "        vertical-align: middle;\n",
       "    }\n",
       "\n",
       "    .dataframe tbody tr th {\n",
       "        vertical-align: top;\n",
       "    }\n",
       "\n",
       "    .dataframe thead th {\n",
       "        text-align: right;\n",
       "    }\n",
       "</style>\n",
       "<table border=\"1\" class=\"dataframe\">\n",
       "  <thead>\n",
       "    <tr style=\"text-align: right;\">\n",
       "      <th></th>\n",
       "      <th>mean</th>\n",
       "      <th>std</th>\n",
       "      <th>max</th>\n",
       "      <th>min</th>\n",
       "      <th>Rmean</th>\n",
       "      <th>Rstd</th>\n",
       "      <th>Rmax</th>\n",
       "      <th>Rmin</th>\n",
       "      <th>Imean</th>\n",
       "      <th>Istd</th>\n",
       "      <th>...</th>\n",
       "      <th>std_roll_mean_1000</th>\n",
       "      <th>max_roll_mean_1000</th>\n",
       "      <th>min_roll_mean_1000</th>\n",
       "      <th>q01_roll_mean_1000</th>\n",
       "      <th>q05_roll_mean_1000</th>\n",
       "      <th>q95_roll_mean_1000</th>\n",
       "      <th>q99_roll_mean_1000</th>\n",
       "      <th>av_change_abs_roll_mean_1000</th>\n",
       "      <th>av_change_rate_roll_mean_1000</th>\n",
       "      <th>abs_max_roll_mean_1000</th>\n",
       "    </tr>\n",
       "  </thead>\n",
       "  <tbody>\n",
       "    <tr>\n",
       "      <th>count</th>\n",
       "      <td>6211.000000000000000000000000000000</td>\n",
       "      <td>6211.000000000000000000000000000000</td>\n",
       "      <td>6211.00000000000000000000000000000</td>\n",
       "      <td>6211.000000000000000000000000000000</td>\n",
       "      <td>6211.000000000000000000000000000000</td>\n",
       "      <td>6211.000000000000000000000000000000</td>\n",
       "      <td>6211.000000000000000000000000000000</td>\n",
       "      <td>6211.000000000000000000000000000000</td>\n",
       "      <td>6211.000000000000000000000000000000</td>\n",
       "      <td>6211.000000000000000000000000000000</td>\n",
       "      <td>...</td>\n",
       "      <td>6211.000000000000000000000000000000</td>\n",
       "      <td>6211.000000000000000000000000000000</td>\n",
       "      <td>6211.000000000000000000000000000000</td>\n",
       "      <td>6211.000000000000000000000000000000</td>\n",
       "      <td>6211.000000000000000000000000000000</td>\n",
       "      <td>6211.000000000000000000000000000000</td>\n",
       "      <td>6211.000000000000000000000000000000</td>\n",
       "      <td>6211.000000000000000000000000000000</td>\n",
       "      <td>6211.000000000000000000000000000000</td>\n",
       "      <td>6211.000000000000000000000000000000</td>\n",
       "    </tr>\n",
       "    <tr>\n",
       "      <th>mean</th>\n",
       "      <td>4.521794057319453052912194834789</td>\n",
       "      <td>6.430987478526413170243358763400</td>\n",
       "      <td>139.49798744163581432076171040535</td>\n",
       "      <td>-126.210594107229113092216721270233</td>\n",
       "      <td>4.723393978425361794393211312126</td>\n",
       "      <td>2091.845376771060273313196375966072</td>\n",
       "      <td>452852.090632981446105986833572387695</td>\n",
       "      <td>-19064.761164248695422429591417312622</td>\n",
       "      <td>-0.000000000000000094879746660814</td>\n",
       "      <td>1439.203501627237528737168759107590</td>\n",
       "      <td>...</td>\n",
       "      <td>0.245409972376859408793592365328</td>\n",
       "      <td>5.493421510223812198603354772786</td>\n",
       "      <td>3.601909515375931736258507953607</td>\n",
       "      <td>3.957356815327635057855104605551</td>\n",
       "      <td>4.125933191112539866196584625868</td>\n",
       "      <td>4.912264981484448789217367448146</td>\n",
       "      <td>5.086996092416658399315565475263</td>\n",
       "      <td>0.000000006803709005935721477664</td>\n",
       "      <td>49572.743164466824964620172977447510</td>\n",
       "      <td>5.493421510223812198603354772786</td>\n",
       "    </tr>\n",
       "    <tr>\n",
       "      <th>std</th>\n",
       "      <td>0.262287060160258322927262497615</td>\n",
       "      <td>8.657797853724391146101879712660</td>\n",
       "      <td>228.15484357098850409784063231200</td>\n",
       "      <td>221.690000058802752391784451901913</td>\n",
       "      <td>6.335885461568502741158681601519</td>\n",
       "      <td>1871.694929737956954340916126966476</td>\n",
       "      <td>26392.862218167429091408848762512207</td>\n",
       "      <td>23951.327619581265025772154331207275</td>\n",
       "      <td>0.000000000000009599428945017010</td>\n",
       "      <td>1937.983858970942947053117677569389</td>\n",
       "      <td>...</td>\n",
       "      <td>0.160087043893305663866399868311</td>\n",
       "      <td>2.601413582855253814329898887081</td>\n",
       "      <td>1.972359232628741576576203442528</td>\n",
       "      <td>0.497418705190214527345204942321</td>\n",
       "      <td>0.286149452875349152858319712323</td>\n",
       "      <td>0.281985540624572039725137528876</td>\n",
       "      <td>0.632900619272082298749637629953</td>\n",
       "      <td>0.000003910246556921267932504811</td>\n",
       "      <td>134.127044024641975283884676173329</td>\n",
       "      <td>2.601413582855253814329898887081</td>\n",
       "    </tr>\n",
       "    <tr>\n",
       "      <th>min</th>\n",
       "      <td>3.586511581469648657360949073336</td>\n",
       "      <td>2.763379844684633379614524528733</td>\n",
       "      <td>20.00000000000000000000000000000</td>\n",
       "      <td>-5515.000000000000000000000000000000</td>\n",
       "      <td>-81.999999999999985789145284797996</td>\n",
       "      <td>1376.742713799495959392515942454338</td>\n",
       "      <td>359225.000000000000000000000000000000</td>\n",
       "      <td>-527625.670732867205515503883361816406</td>\n",
       "      <td>-0.000000000000503927246615231341</td>\n",
       "      <td>617.681552258119495490973349660635</td>\n",
       "      <td>...</td>\n",
       "      <td>0.144761446695028578313113598597</td>\n",
       "      <td>4.112000000000000099475983006414</td>\n",
       "      <td>-48.777999999999998692601366201416</td>\n",
       "      <td>-6.466919999999999113526882865699</td>\n",
       "      <td>1.461999999999999966249220051395</td>\n",
       "      <td>3.879000000000000003552713678801</td>\n",
       "      <td>3.971000000000000085265128291212</td>\n",
       "      <td>-0.000039589961117002482528671320</td>\n",
       "      <td>49083.852842218948353547602891921997</td>\n",
       "      <td>4.112000000000000099475983006414</td>\n",
       "    </tr>\n",
       "    <tr>\n",
       "      <th>25%</th>\n",
       "      <td>4.350461710507792290059114748146</td>\n",
       "      <td>4.384949846821973196142607775982</td>\n",
       "      <td>78.00000000000000000000000000000</td>\n",
       "      <td>-137.000000000000000000000000000000</td>\n",
       "      <td>2.000000000000005329070518200751</td>\n",
       "      <td>1740.888997017793144550523720681667</td>\n",
       "      <td>435588.000000000000000000000000000000</td>\n",
       "      <td>-21297.226620579756854567676782608032</td>\n",
       "      <td>-0.000000000000001455053297174572</td>\n",
       "      <td>981.300540082976908706768881529570</td>\n",
       "      <td>...</td>\n",
       "      <td>0.212309998954476719656980776563</td>\n",
       "      <td>5.081999999999999850786025490379</td>\n",
       "      <td>3.524999999999999911182158029987</td>\n",
       "      <td>3.798999999999999932498440102790</td>\n",
       "      <td>3.951999999999999957367435854394</td>\n",
       "      <td>4.729000000000000092370555648813</td>\n",
       "      <td>4.873999999999999666044914192753</td>\n",
       "      <td>-0.000002561981897972559492864105</td>\n",
       "      <td>49486.210439533824683167040348052979</td>\n",
       "      <td>5.081999999999999850786025490379</td>\n",
       "    </tr>\n",
       "    <tr>\n",
       "      <th>50%</th>\n",
       "      <td>4.525091236314552567421287676552</td>\n",
       "      <td>5.490830675311533681792752759065</td>\n",
       "      <td>108.00000000000000000000000000000</td>\n",
       "      <td>-95.000000000000000000000000000000</td>\n",
       "      <td>4.999999999999965361041631695116</td>\n",
       "      <td>1890.333568447643074250663630664349</td>\n",
       "      <td>453228.000000000000000000000000000000</td>\n",
       "      <td>-16235.764832525364909088239073753357</td>\n",
       "      <td>0.000000000000000000000000000000</td>\n",
       "      <td>1229.469804427908684374415315687656</td>\n",
       "      <td>...</td>\n",
       "      <td>0.232001816043916425646997936383</td>\n",
       "      <td>5.285999999999999587885213259142</td>\n",
       "      <td>3.763999999999999790389892950770</td>\n",
       "      <td>3.983999999999999985789145284798</td>\n",
       "      <td>4.136999999999999566568931186339</td>\n",
       "      <td>4.911999999999999921840299066389</td>\n",
       "      <td>5.057000000000000383693077310454</td>\n",
       "      <td>0.000000080754244644984217397902</td>\n",
       "      <td>49567.694459327947697602212429046631</td>\n",
       "      <td>5.285999999999999587885213259142</td>\n",
       "    </tr>\n",
       "    <tr>\n",
       "      <th>75%</th>\n",
       "      <td>4.697557280828991821408635587431</td>\n",
       "      <td>6.844165609030110175581285147928</td>\n",
       "      <td>151.00000000000000000000000000000</td>\n",
       "      <td>-67.000000000000000000000000000000</td>\n",
       "      <td>6.999999999999997335464740899624</td>\n",
       "      <td>2099.570192067461903207004070281982</td>\n",
       "      <td>470510.000000000000000000000000000000</td>\n",
       "      <td>-12101.915595363141619600355625152588</td>\n",
       "      <td>0.000000000000001454493366020995</td>\n",
       "      <td>1531.630175745903670758707448840141</td>\n",
       "      <td>...</td>\n",
       "      <td>0.254226359242974209173837607523</td>\n",
       "      <td>5.514499999999999957367435854394</td>\n",
       "      <td>3.971999999999999975131004248396</td>\n",
       "      <td>4.168000000000000149213974509621</td>\n",
       "      <td>4.310999999999999943156581139192</td>\n",
       "      <td>5.089999999999999857891452847980</td>\n",
       "      <td>5.241999999999999992894572642399</td>\n",
       "      <td>0.000002540976027733541828777797</td>\n",
       "      <td>49653.663737531227525323629379272461</td>\n",
       "      <td>5.514499999999999957367435854394</td>\n",
       "    </tr>\n",
       "    <tr>\n",
       "      <th>max</th>\n",
       "      <td>5.489976838910630263512757665012</td>\n",
       "      <td>187.732108645201236640787101350725</td>\n",
       "      <td>5444.00000000000000000000000000000</td>\n",
       "      <td>-10.000000000000000000000000000000</td>\n",
       "      <td>121.000000000000355271367880050093</td>\n",
       "      <td>41999.190200526485568843781948089600</td>\n",
       "      <td>549920.000000000000000000000000000000</td>\n",
       "      <td>-3946.711260560193295532371848821640</td>\n",
       "      <td>0.000000000000340290224795419348</td>\n",
       "      <td>41982.613859787241381127387285232544</td>\n",
       "      <td>...</td>\n",
       "      <td>4.303318311510357929705605783965</td>\n",
       "      <td>73.841999999999998749444785062224</td>\n",
       "      <td>4.860000000000000319744231092045</td>\n",
       "      <td>5.056000000000000049737991503207</td>\n",
       "      <td>5.121000000000000440536496171262</td>\n",
       "      <td>6.884000000000000341060513164848</td>\n",
       "      <td>20.911999999999999033661879366264</td>\n",
       "      <td>0.000039175882442054219489090128</td>\n",
       "      <td>50362.366165046485548373311758041382</td>\n",
       "      <td>73.841999999999998749444785062224</td>\n",
       "    </tr>\n",
       "  </tbody>\n",
       "</table>\n",
       "<p>8 rows × 145 columns</p>\n",
       "</div>"
      ],
      "text/plain": [
       "                                      mean  \\\n",
       "count  6211.000000000000000000000000000000   \n",
       "mean      4.521794057319453052912194834789   \n",
       "std       0.262287060160258322927262497615   \n",
       "min       3.586511581469648657360949073336   \n",
       "25%       4.350461710507792290059114748146   \n",
       "50%       4.525091236314552567421287676552   \n",
       "75%       4.697557280828991821408635587431   \n",
       "max       5.489976838910630263512757665012   \n",
       "\n",
       "                                       std  \\\n",
       "count  6211.000000000000000000000000000000   \n",
       "mean      6.430987478526413170243358763400   \n",
       "std       8.657797853724391146101879712660   \n",
       "min       2.763379844684633379614524528733   \n",
       "25%       4.384949846821973196142607775982   \n",
       "50%       5.490830675311533681792752759065   \n",
       "75%       6.844165609030110175581285147928   \n",
       "max     187.732108645201236640787101350725   \n",
       "\n",
       "                                      max  \\\n",
       "count  6211.00000000000000000000000000000   \n",
       "mean    139.49798744163581432076171040535   \n",
       "std     228.15484357098850409784063231200   \n",
       "min      20.00000000000000000000000000000   \n",
       "25%      78.00000000000000000000000000000   \n",
       "50%     108.00000000000000000000000000000   \n",
       "75%     151.00000000000000000000000000000   \n",
       "max    5444.00000000000000000000000000000   \n",
       "\n",
       "                                       min  \\\n",
       "count  6211.000000000000000000000000000000   \n",
       "mean   -126.210594107229113092216721270233   \n",
       "std     221.690000058802752391784451901913   \n",
       "min   -5515.000000000000000000000000000000   \n",
       "25%    -137.000000000000000000000000000000   \n",
       "50%     -95.000000000000000000000000000000   \n",
       "75%     -67.000000000000000000000000000000   \n",
       "max     -10.000000000000000000000000000000   \n",
       "\n",
       "                                     Rmean  \\\n",
       "count  6211.000000000000000000000000000000   \n",
       "mean      4.723393978425361794393211312126   \n",
       "std       6.335885461568502741158681601519   \n",
       "min     -81.999999999999985789145284797996   \n",
       "25%       2.000000000000005329070518200751   \n",
       "50%       4.999999999999965361041631695116   \n",
       "75%       6.999999999999997335464740899624   \n",
       "max     121.000000000000355271367880050093   \n",
       "\n",
       "                                       Rstd  \\\n",
       "count   6211.000000000000000000000000000000   \n",
       "mean    2091.845376771060273313196375966072   \n",
       "std     1871.694929737956954340916126966476   \n",
       "min     1376.742713799495959392515942454338   \n",
       "25%     1740.888997017793144550523720681667   \n",
       "50%     1890.333568447643074250663630664349   \n",
       "75%     2099.570192067461903207004070281982   \n",
       "max    41999.190200526485568843781948089600   \n",
       "\n",
       "                                        Rmax  \\\n",
       "count    6211.000000000000000000000000000000   \n",
       "mean   452852.090632981446105986833572387695   \n",
       "std     26392.862218167429091408848762512207   \n",
       "min    359225.000000000000000000000000000000   \n",
       "25%    435588.000000000000000000000000000000   \n",
       "50%    453228.000000000000000000000000000000   \n",
       "75%    470510.000000000000000000000000000000   \n",
       "max    549920.000000000000000000000000000000   \n",
       "\n",
       "                                        Rmin  \\\n",
       "count    6211.000000000000000000000000000000   \n",
       "mean   -19064.761164248695422429591417312622   \n",
       "std     23951.327619581265025772154331207275   \n",
       "min   -527625.670732867205515503883361816406   \n",
       "25%    -21297.226620579756854567676782608032   \n",
       "50%    -16235.764832525364909088239073753357   \n",
       "75%    -12101.915595363141619600355625152588   \n",
       "max     -3946.711260560193295532371848821640   \n",
       "\n",
       "                                     Imean  \\\n",
       "count  6211.000000000000000000000000000000   \n",
       "mean     -0.000000000000000094879746660814   \n",
       "std       0.000000000000009599428945017010   \n",
       "min      -0.000000000000503927246615231341   \n",
       "25%      -0.000000000000001455053297174572   \n",
       "50%       0.000000000000000000000000000000   \n",
       "75%       0.000000000000001454493366020995   \n",
       "max       0.000000000000340290224795419348   \n",
       "\n",
       "                                       Istd  \\\n",
       "count   6211.000000000000000000000000000000   \n",
       "mean    1439.203501627237528737168759107590   \n",
       "std     1937.983858970942947053117677569389   \n",
       "min      617.681552258119495490973349660635   \n",
       "25%      981.300540082976908706768881529570   \n",
       "50%     1229.469804427908684374415315687656   \n",
       "75%     1531.630175745903670758707448840141   \n",
       "max    41982.613859787241381127387285232544   \n",
       "\n",
       "                      ...                   \\\n",
       "count                 ...                    \n",
       "mean                  ...                    \n",
       "std                   ...                    \n",
       "min                   ...                    \n",
       "25%                   ...                    \n",
       "50%                   ...                    \n",
       "75%                   ...                    \n",
       "max                   ...                    \n",
       "\n",
       "                        std_roll_mean_1000  \\\n",
       "count  6211.000000000000000000000000000000   \n",
       "mean      0.245409972376859408793592365328   \n",
       "std       0.160087043893305663866399868311   \n",
       "min       0.144761446695028578313113598597   \n",
       "25%       0.212309998954476719656980776563   \n",
       "50%       0.232001816043916425646997936383   \n",
       "75%       0.254226359242974209173837607523   \n",
       "max       4.303318311510357929705605783965   \n",
       "\n",
       "                        max_roll_mean_1000  \\\n",
       "count  6211.000000000000000000000000000000   \n",
       "mean      5.493421510223812198603354772786   \n",
       "std       2.601413582855253814329898887081   \n",
       "min       4.112000000000000099475983006414   \n",
       "25%       5.081999999999999850786025490379   \n",
       "50%       5.285999999999999587885213259142   \n",
       "75%       5.514499999999999957367435854394   \n",
       "max      73.841999999999998749444785062224   \n",
       "\n",
       "                        min_roll_mean_1000  \\\n",
       "count  6211.000000000000000000000000000000   \n",
       "mean      3.601909515375931736258507953607   \n",
       "std       1.972359232628741576576203442528   \n",
       "min     -48.777999999999998692601366201416   \n",
       "25%       3.524999999999999911182158029987   \n",
       "50%       3.763999999999999790389892950770   \n",
       "75%       3.971999999999999975131004248396   \n",
       "max       4.860000000000000319744231092045   \n",
       "\n",
       "                        q01_roll_mean_1000  \\\n",
       "count  6211.000000000000000000000000000000   \n",
       "mean      3.957356815327635057855104605551   \n",
       "std       0.497418705190214527345204942321   \n",
       "min      -6.466919999999999113526882865699   \n",
       "25%       3.798999999999999932498440102790   \n",
       "50%       3.983999999999999985789145284798   \n",
       "75%       4.168000000000000149213974509621   \n",
       "max       5.056000000000000049737991503207   \n",
       "\n",
       "                        q05_roll_mean_1000  \\\n",
       "count  6211.000000000000000000000000000000   \n",
       "mean      4.125933191112539866196584625868   \n",
       "std       0.286149452875349152858319712323   \n",
       "min       1.461999999999999966249220051395   \n",
       "25%       3.951999999999999957367435854394   \n",
       "50%       4.136999999999999566568931186339   \n",
       "75%       4.310999999999999943156581139192   \n",
       "max       5.121000000000000440536496171262   \n",
       "\n",
       "                        q95_roll_mean_1000  \\\n",
       "count  6211.000000000000000000000000000000   \n",
       "mean      4.912264981484448789217367448146   \n",
       "std       0.281985540624572039725137528876   \n",
       "min       3.879000000000000003552713678801   \n",
       "25%       4.729000000000000092370555648813   \n",
       "50%       4.911999999999999921840299066389   \n",
       "75%       5.089999999999999857891452847980   \n",
       "max       6.884000000000000341060513164848   \n",
       "\n",
       "                        q99_roll_mean_1000  \\\n",
       "count  6211.000000000000000000000000000000   \n",
       "mean      5.086996092416658399315565475263   \n",
       "std       0.632900619272082298749637629953   \n",
       "min       3.971000000000000085265128291212   \n",
       "25%       4.873999999999999666044914192753   \n",
       "50%       5.057000000000000383693077310454   \n",
       "75%       5.241999999999999992894572642399   \n",
       "max      20.911999999999999033661879366264   \n",
       "\n",
       "              av_change_abs_roll_mean_1000  \\\n",
       "count  6211.000000000000000000000000000000   \n",
       "mean      0.000000006803709005935721477664   \n",
       "std       0.000003910246556921267932504811   \n",
       "min      -0.000039589961117002482528671320   \n",
       "25%      -0.000002561981897972559492864105   \n",
       "50%       0.000000080754244644984217397902   \n",
       "75%       0.000002540976027733541828777797   \n",
       "max       0.000039175882442054219489090128   \n",
       "\n",
       "              av_change_rate_roll_mean_1000  \\\n",
       "count   6211.000000000000000000000000000000   \n",
       "mean   49572.743164466824964620172977447510   \n",
       "std      134.127044024641975283884676173329   \n",
       "min    49083.852842218948353547602891921997   \n",
       "25%    49486.210439533824683167040348052979   \n",
       "50%    49567.694459327947697602212429046631   \n",
       "75%    49653.663737531227525323629379272461   \n",
       "max    50362.366165046485548373311758041382   \n",
       "\n",
       "                    abs_max_roll_mean_1000  \n",
       "count  6211.000000000000000000000000000000  \n",
       "mean      5.493421510223812198603354772786  \n",
       "std       2.601413582855253814329898887081  \n",
       "min       4.112000000000000099475983006414  \n",
       "25%       5.081999999999999850786025490379  \n",
       "50%       5.285999999999999587885213259142  \n",
       "75%       5.514499999999999957367435854394  \n",
       "max      73.841999999999998749444785062224  \n",
       "\n",
       "[8 rows x 145 columns]"
      ]
     },
     "execution_count": 15,
     "metadata": {},
     "output_type": "execute_result"
    }
   ],
   "source": [
    "train_X.describe()"
   ]
  },
  {
   "cell_type": "code",
   "execution_count": null,
   "metadata": {
    "collapsed": true
   },
   "outputs": [],
   "source": []
  },
  {
   "cell_type": "code",
   "execution_count": 16,
   "metadata": {
    "collapsed": true
   },
   "outputs": [],
   "source": [
    "test_X_seg_ids=pd.read_csv('F:\\\\Qplus\\\\Kaggle\\\\sample_submission.csv',dtype={'time_to_failure':np.float32},index_col='seg_id')"
   ]
  },
  {
   "cell_type": "code",
   "execution_count": 17,
   "metadata": {
    "collapsed": false
   },
   "outputs": [
    {
     "data": {
      "text/html": [
       "<div>\n",
       "<style scoped>\n",
       "    .dataframe tbody tr th:only-of-type {\n",
       "        vertical-align: middle;\n",
       "    }\n",
       "\n",
       "    .dataframe tbody tr th {\n",
       "        vertical-align: top;\n",
       "    }\n",
       "\n",
       "    .dataframe thead th {\n",
       "        text-align: right;\n",
       "    }\n",
       "</style>\n",
       "<table border=\"1\" class=\"dataframe\">\n",
       "  <thead>\n",
       "    <tr style=\"text-align: right;\">\n",
       "      <th></th>\n",
       "      <th>time_to_failure</th>\n",
       "    </tr>\n",
       "    <tr>\n",
       "      <th>seg_id</th>\n",
       "      <th></th>\n",
       "    </tr>\n",
       "  </thead>\n",
       "  <tbody>\n",
       "    <tr>\n",
       "      <th>seg_00030f</th>\n",
       "      <td>0.0</td>\n",
       "    </tr>\n",
       "    <tr>\n",
       "      <th>seg_0012b5</th>\n",
       "      <td>0.0</td>\n",
       "    </tr>\n",
       "    <tr>\n",
       "      <th>seg_00184e</th>\n",
       "      <td>0.0</td>\n",
       "    </tr>\n",
       "    <tr>\n",
       "      <th>seg_003339</th>\n",
       "      <td>0.0</td>\n",
       "    </tr>\n",
       "    <tr>\n",
       "      <th>seg_0042cc</th>\n",
       "      <td>0.0</td>\n",
       "    </tr>\n",
       "  </tbody>\n",
       "</table>\n",
       "</div>"
      ],
      "text/plain": [
       "            time_to_failure\n",
       "seg_id                     \n",
       "seg_00030f              0.0\n",
       "seg_0012b5              0.0\n",
       "seg_00184e              0.0\n",
       "seg_003339              0.0\n",
       "seg_0042cc              0.0"
      ]
     },
     "execution_count": 17,
     "metadata": {},
     "output_type": "execute_result"
    }
   ],
   "source": [
    "test_X_seg_ids.head()"
   ]
  },
  {
   "cell_type": "code",
   "execution_count": 18,
   "metadata": {
    "collapsed": true
   },
   "outputs": [],
   "source": [
    "test_X=pd.DataFrame()\n",
    "for seg_id in test_X_seg_ids.index.values:\n",
    "    #print(type(seg_id))\n",
    "    seg_data=pd.read_csv('F:\\\\Qplus\\\\Kaggle\\\\test\\\\'+seg_id+'.csv',dtype={'acoustic_data':np.float32})\n",
    "    test_X=test_X.append(create_many_features(seg_data.acoustic_data,seg_id=seg_id),ignore_index=True)"
   ]
  },
  {
   "cell_type": "code",
   "execution_count": 19,
   "metadata": {
    "collapsed": false
   },
   "outputs": [
    {
     "data": {
      "text/plain": [
       "(2624, 145)"
      ]
     },
     "execution_count": 19,
     "metadata": {},
     "output_type": "execute_result"
    }
   ],
   "source": [
    "test_X.shape"
   ]
  },
  {
   "cell_type": "code",
   "execution_count": 20,
   "metadata": {
    "collapsed": true
   },
   "outputs": [],
   "source": [
    "Merged_X=pd.concat((train_X,test_X),ignore_index=True)"
   ]
  },
  {
   "cell_type": "code",
   "execution_count": null,
   "metadata": {
    "collapsed": true
   },
   "outputs": [],
   "source": []
  },
  {
   "cell_type": "code",
   "execution_count": 21,
   "metadata": {
    "collapsed": true
   },
   "outputs": [],
   "source": [
    "from sklearn.preprocessing import StandardScaler\n",
    "scaler=StandardScaler()\n",
    "scaler.fit(Merged_X)\n",
    "train_X_scaled=scaler.transform(train_X)"
   ]
  },
  {
   "cell_type": "code",
   "execution_count": 22,
   "metadata": {
    "collapsed": true
   },
   "outputs": [],
   "source": [
    "test_X_scaled=scaler.transform(test_X)"
   ]
  },
  {
   "cell_type": "code",
   "execution_count": 23,
   "metadata": {
    "collapsed": true
   },
   "outputs": [],
   "source": [
    "train_X_transformed=train_X_scaled.reshape(train_X_scaled.shape[0],train_X_scaled.shape[1],1)"
   ]
  },
  {
   "cell_type": "code",
   "execution_count": 24,
   "metadata": {
    "collapsed": false
   },
   "outputs": [
    {
     "data": {
      "text/plain": [
       "(6211, 145, 1)"
      ]
     },
     "execution_count": 24,
     "metadata": {},
     "output_type": "execute_result"
    }
   ],
   "source": [
    "train_X_transformed.shape"
   ]
  },
  {
   "cell_type": "code",
   "execution_count": 25,
   "metadata": {
    "collapsed": false
   },
   "outputs": [
    {
     "name": "stdout",
     "output_type": "stream",
     "text": [
      "WARNING:tensorflow:From F:\\Softwares\\Anaconda\\install\\lib\\site-packages\\tensorflow\\python\\framework\\op_def_library.py:263: colocate_with (from tensorflow.python.framework.ops) is deprecated and will be removed in a future version.\n",
      "Instructions for updating:\n",
      "Colocations handled automatically by placer.\n"
     ]
    }
   ],
   "source": [
    "LSTM_model=Sequential()\n",
    "LSTM_model.add(LSTM(100,input_shape=(train_X_transformed.shape[1],train_X_transformed.shape[2])))\n",
    "LSTM_model.add(Dense(1))"
   ]
  },
  {
   "cell_type": "code",
   "execution_count": 26,
   "metadata": {
    "collapsed": true
   },
   "outputs": [
    {
     "name": "stdout",
     "output_type": "stream",
     "text": [
      "WARNING:tensorflow:From F:\\Softwares\\Anaconda\\install\\lib\\site-packages\\tensorflow\\python\\ops\\math_ops.py:3066: to_int32 (from tensorflow.python.ops.math_ops) is deprecated and will be removed in a future version.\n",
      "Instructions for updating:\n",
      "Use tf.cast instead.\n",
      "Epoch 1/200\n",
      "6211/6211 [==============================] - 11s 2ms/step - loss: 3.4087\n",
      "Epoch 2/200\n",
      "6211/6211 [==============================] - 8s 1ms/step - loss: 2.9983\n",
      "Epoch 3/200\n",
      "6211/6211 [==============================] - 8s 1ms/step - loss: 2.9952\n",
      "Epoch 4/200\n",
      "6211/6211 [==============================] - 8s 1ms/step - loss: 2.9884\n",
      "Epoch 5/200\n",
      "6211/6211 [==============================] - 8s 1ms/step - loss: 2.9380\n",
      "Epoch 6/200\n",
      "6211/6211 [==============================] - 8s 1ms/step - loss: 2.4970\n",
      "Epoch 7/200\n",
      "6211/6211 [==============================] - 8s 1ms/step - loss: 2.2718\n",
      "Epoch 8/200\n",
      "6211/6211 [==============================] - 8s 1ms/step - loss: 2.2492\n",
      "Epoch 9/200\n",
      "6211/6211 [==============================] - 8s 1ms/step - loss: 2.2276\n",
      "Epoch 10/200\n",
      "6211/6211 [==============================] - 8s 1ms/step - loss: 2.2162\n",
      "Epoch 11/200\n",
      "6211/6211 [==============================] - 8s 1ms/step - loss: 2.2070\n",
      "Epoch 12/200\n",
      "6211/6211 [==============================] - 8s 1ms/step - loss: 2.2261\n",
      "Epoch 13/200\n",
      "6211/6211 [==============================] - 8s 1ms/step - loss: 2.1979\n",
      "Epoch 14/200\n",
      "6211/6211 [==============================] - 8s 1ms/step - loss: 2.1799\n",
      "Epoch 15/200\n",
      "6211/6211 [==============================] - 8s 1ms/step - loss: 2.2688\n",
      "Epoch 16/200\n",
      "6211/6211 [==============================] - 9s 1ms/step - loss: 2.2125\n",
      "Epoch 17/200\n",
      "6211/6211 [==============================] - 9s 1ms/step - loss: 2.1861\n",
      "Epoch 18/200\n",
      "6211/6211 [==============================] - 8s 1ms/step - loss: 2.1944\n",
      "Epoch 19/200\n",
      "6211/6211 [==============================] - 8s 1ms/step - loss: 2.1840\n",
      "Epoch 20/200\n",
      "6211/6211 [==============================] - 8s 1ms/step - loss: 2.1749\n",
      "Epoch 21/200\n",
      "6211/6211 [==============================] - 8s 1ms/step - loss: 2.1857\n",
      "Epoch 22/200\n",
      "6211/6211 [==============================] - 9s 1ms/step - loss: 2.1696\n",
      "Epoch 23/200\n",
      "6211/6211 [==============================] - 8s 1ms/step - loss: 2.1712\n",
      "Epoch 24/200\n",
      "6211/6211 [==============================] - 8s 1ms/step - loss: 2.1740\n",
      "Epoch 25/200\n",
      "6211/6211 [==============================] - 8s 1ms/step - loss: 2.1740\n",
      "Epoch 26/200\n",
      "6211/6211 [==============================] - 8s 1ms/step - loss: 2.1756\n",
      "Epoch 27/200\n",
      "6211/6211 [==============================] - 8s 1ms/step - loss: 2.1586\n",
      "Epoch 28/200\n",
      "6211/6211 [==============================] - 8s 1ms/step - loss: 2.1664\n",
      "Epoch 29/200\n",
      "6211/6211 [==============================] - 8s 1ms/step - loss: 2.1684\n",
      "Epoch 30/200\n",
      "6211/6211 [==============================] - 8s 1ms/step - loss: 2.1757\n",
      "Epoch 31/200\n",
      "6211/6211 [==============================] - 8s 1ms/step - loss: 2.1804\n",
      "Epoch 32/200\n",
      "6211/6211 [==============================] - 8s 1ms/step - loss: 2.1594\n",
      "Epoch 33/200\n",
      "6211/6211 [==============================] - 8s 1ms/step - loss: 2.1611\n",
      "Epoch 34/200\n",
      "6211/6211 [==============================] - 8s 1ms/step - loss: 2.1588\n",
      "Epoch 35/200\n",
      "6211/6211 [==============================] - 8s 1ms/step - loss: 2.1448\n",
      "Epoch 36/200\n",
      "6211/6211 [==============================] - 9s 1ms/step - loss: 2.1835\n",
      "Epoch 37/200\n",
      "6211/6211 [==============================] - 9s 1ms/step - loss: 2.1541\n",
      "Epoch 38/200\n",
      "6211/6211 [==============================] - 8s 1ms/step - loss: 2.1536\n",
      "Epoch 39/200\n",
      "6211/6211 [==============================] - 9s 1ms/step - loss: 2.1522\n",
      "Epoch 40/200\n",
      "6211/6211 [==============================] - 8s 1ms/step - loss: 2.1493\n",
      "Epoch 41/200\n",
      "6211/6211 [==============================] - 8s 1ms/step - loss: 2.1463\n",
      "Epoch 42/200\n",
      "6211/6211 [==============================] - 8s 1ms/step - loss: 2.1505\n",
      "Epoch 43/200\n",
      "6211/6211 [==============================] - 8s 1ms/step - loss: 2.1485\n",
      "Epoch 44/200\n",
      "6211/6211 [==============================] - 9s 1ms/step - loss: 2.1496\n",
      "Epoch 45/200\n",
      "6211/6211 [==============================] - 9s 1ms/step - loss: 2.1393\n",
      "Epoch 46/200\n",
      "6211/6211 [==============================] - 8s 1ms/step - loss: 2.1403\n",
      "Epoch 47/200\n",
      "6211/6211 [==============================] - 8s 1ms/step - loss: 2.1457\n",
      "Epoch 48/200\n",
      "6211/6211 [==============================] - 8s 1ms/step - loss: 2.1490\n",
      "Epoch 49/200\n",
      "6211/6211 [==============================] - 8s 1ms/step - loss: 2.1351\n",
      "Epoch 50/200\n",
      "6211/6211 [==============================] - 8s 1ms/step - loss: 2.1388\n",
      "Epoch 51/200\n",
      "6211/6211 [==============================] - 9s 1ms/step - loss: 2.1377\n",
      "Epoch 52/200\n",
      "6211/6211 [==============================] - 9s 1ms/step - loss: 2.1391\n",
      "Epoch 53/200\n",
      "6211/6211 [==============================] - 9s 1ms/step - loss: 2.1366\n",
      "Epoch 54/200\n",
      "6211/6211 [==============================] - 8s 1ms/step - loss: 2.1277\n",
      "Epoch 55/200\n",
      "6211/6211 [==============================] - 8s 1ms/step - loss: 2.1273\n",
      "Epoch 56/200\n",
      "6211/6211 [==============================] - 8s 1ms/step - loss: 2.1246\n",
      "Epoch 57/200\n",
      "6211/6211 [==============================] - 8s 1ms/step - loss: 2.1386\n",
      "Epoch 58/200\n",
      "6211/6211 [==============================] - 8s 1ms/step - loss: 2.1272\n",
      "Epoch 59/200\n",
      "6211/6211 [==============================] - 9s 1ms/step - loss: 2.1261\n",
      "Epoch 60/200\n",
      "6211/6211 [==============================] - 9s 1ms/step - loss: 2.1393\n",
      "Epoch 61/200\n",
      "6211/6211 [==============================] - 8s 1ms/step - loss: 2.1244\n",
      "Epoch 62/200\n",
      "6211/6211 [==============================] - 9s 1ms/step - loss: 2.1241\n",
      "Epoch 63/200\n",
      "6211/6211 [==============================] - 9s 1ms/step - loss: 2.1417\n",
      "Epoch 64/200\n",
      "6211/6211 [==============================] - 8s 1ms/step - loss: 2.1256\n",
      "Epoch 65/200\n",
      "6211/6211 [==============================] - 8s 1ms/step - loss: 2.1282\n",
      "Epoch 66/200\n",
      "6211/6211 [==============================] - 8s 1ms/step - loss: 2.1108\n",
      "Epoch 67/200\n",
      "6211/6211 [==============================] - 8s 1ms/step - loss: 2.1121\n",
      "Epoch 68/200\n",
      "6211/6211 [==============================] - 8s 1ms/step - loss: 2.1074\n",
      "Epoch 69/200\n",
      "6211/6211 [==============================] - 9s 1ms/step - loss: 2.1073\n",
      "Epoch 70/200\n",
      "6211/6211 [==============================] - 8s 1ms/step - loss: 2.1097\n",
      "Epoch 71/200\n",
      "6211/6211 [==============================] - 8s 1ms/step - loss: 2.1017\n",
      "Epoch 72/200\n",
      "6211/6211 [==============================] - 9s 1ms/step - loss: 2.1012\n",
      "Epoch 73/200\n",
      "6211/6211 [==============================] - 8s 1ms/step - loss: 2.1078\n",
      "Epoch 74/200\n",
      "6211/6211 [==============================] - 8s 1ms/step - loss: 2.1018\n",
      "Epoch 75/200\n",
      "6211/6211 [==============================] - 9s 1ms/step - loss: 2.1027\n",
      "Epoch 76/200\n",
      "6211/6211 [==============================] - 8s 1ms/step - loss: 2.1095\n",
      "Epoch 77/200\n",
      "6211/6211 [==============================] - 9s 1ms/step - loss: 2.1403\n",
      "Epoch 78/200\n",
      "6211/6211 [==============================] - 9s 1ms/step - loss: 2.0935\n",
      "Epoch 79/200\n",
      "6211/6211 [==============================] - 9s 1ms/step - loss: 2.0953\n",
      "Epoch 80/200\n",
      "6211/6211 [==============================] - 9s 1ms/step - loss: 2.0948\n",
      "Epoch 81/200\n",
      "6211/6211 [==============================] - 8s 1ms/step - loss: 2.0937\n",
      "Epoch 82/200\n",
      "6211/6211 [==============================] - 8s 1ms/step - loss: 2.1006\n",
      "Epoch 83/200\n",
      "6211/6211 [==============================] - 8s 1ms/step - loss: 2.0898\n",
      "Epoch 84/200\n",
      "6211/6211 [==============================] - 8s 1ms/step - loss: 2.0945\n",
      "Epoch 85/200\n",
      "6211/6211 [==============================] - 7s 1ms/step - loss: 2.0882\n",
      "Epoch 86/200\n",
      "6211/6211 [==============================] - 8s 1ms/step - loss: 2.0869\n",
      "Epoch 87/200\n",
      "6211/6211 [==============================] - 8s 1ms/step - loss: 2.0801\n",
      "Epoch 88/200\n",
      "6211/6211 [==============================] - 8s 1ms/step - loss: 2.0814\n",
      "Epoch 89/200\n",
      "6211/6211 [==============================] - 8s 1ms/step - loss: 2.0748\n",
      "Epoch 90/200\n",
      "6211/6211 [==============================] - 8s 1ms/step - loss: 2.0884\n",
      "Epoch 91/200\n",
      "6211/6211 [==============================] - 8s 1ms/step - loss: 2.0874\n",
      "Epoch 92/200\n",
      "6211/6211 [==============================] - 8s 1ms/step - loss: 2.0773\n",
      "Epoch 93/200\n",
      "6211/6211 [==============================] - 8s 1ms/step - loss: 2.0722\n",
      "Epoch 94/200\n",
      "6211/6211 [==============================] - 8s 1ms/step - loss: 2.0835\n",
      "Epoch 95/200\n",
      "6211/6211 [==============================] - 8s 1ms/step - loss: 2.0705\n",
      "Epoch 96/200\n",
      "6211/6211 [==============================] - 8s 1ms/step - loss: 2.1021\n",
      "Epoch 97/200\n",
      "6211/6211 [==============================] - 8s 1ms/step - loss: 2.0668\n",
      "Epoch 98/200\n",
      "6211/6211 [==============================] - 8s 1ms/step - loss: 2.0868\n",
      "Epoch 99/200\n",
      "6211/6211 [==============================] - 8s 1ms/step - loss: 2.0649\n",
      "Epoch 100/200\n",
      "6211/6211 [==============================] - 8s 1ms/step - loss: 2.0593\n",
      "Epoch 101/200\n",
      "6211/6211 [==============================] - 8s 1ms/step - loss: 2.0579\n",
      "Epoch 102/200\n",
      "6211/6211 [==============================] - 8s 1ms/step - loss: 2.0649\n",
      "Epoch 103/200\n",
      "6211/6211 [==============================] - 8s 1ms/step - loss: 2.0570\n",
      "Epoch 104/200\n",
      "6211/6211 [==============================] - 8s 1ms/step - loss: 2.0689\n",
      "Epoch 105/200\n",
      "6211/6211 [==============================] - 8s 1ms/step - loss: 2.0557\n",
      "Epoch 106/200\n",
      "6211/6211 [==============================] - 8s 1ms/step - loss: 2.0725\n",
      "Epoch 107/200\n",
      "6211/6211 [==============================] - 7s 1ms/step - loss: 2.0574\n",
      "Epoch 108/200\n",
      "6211/6211 [==============================] - 7s 1ms/step - loss: 2.0569\n",
      "Epoch 109/200\n",
      "6211/6211 [==============================] - 8s 1ms/step - loss: 2.0550\n",
      "Epoch 110/200\n",
      "6211/6211 [==============================] - 8s 1ms/step - loss: 2.0519\n",
      "Epoch 111/200\n",
      "6211/6211 [==============================] - 7s 1ms/step - loss: 2.0761\n",
      "Epoch 112/200\n",
      "6211/6211 [==============================] - 7s 1ms/step - loss: 2.0515\n",
      "Epoch 113/200\n",
      "6211/6211 [==============================] - 8s 1ms/step - loss: 2.0552\n",
      "Epoch 114/200\n",
      "6211/6211 [==============================] - 7s 1ms/step - loss: 2.0624\n",
      "Epoch 115/200\n",
      "6211/6211 [==============================] - 7s 1ms/step - loss: 2.0666\n",
      "Epoch 116/200\n",
      "6211/6211 [==============================] - 8s 1ms/step - loss: 2.0401\n",
      "Epoch 117/200\n",
      "6211/6211 [==============================] - 8s 1ms/step - loss: 2.1402\n",
      "Epoch 118/200\n",
      "6211/6211 [==============================] - 8s 1ms/step - loss: 2.0809\n",
      "Epoch 119/200\n",
      "6211/6211 [==============================] - 8s 1ms/step - loss: 2.0739\n",
      "Epoch 120/200\n",
      "6211/6211 [==============================] - 8s 1ms/step - loss: 2.0759\n",
      "Epoch 121/200\n",
      "6211/6211 [==============================] - 8s 1ms/step - loss: 2.0496\n",
      "Epoch 122/200\n",
      "6211/6211 [==============================] - 8s 1ms/step - loss: 2.0422\n",
      "Epoch 123/200\n",
      "6211/6211 [==============================] - 8s 1ms/step - loss: 2.0423\n",
      "Epoch 124/200\n",
      "6211/6211 [==============================] - 8s 1ms/step - loss: 2.0370\n",
      "Epoch 125/200\n",
      "6211/6211 [==============================] - 8s 1ms/step - loss: 2.0392\n",
      "Epoch 126/200\n",
      "6211/6211 [==============================] - 8s 1ms/step - loss: 2.0342\n",
      "Epoch 127/200\n",
      "6211/6211 [==============================] - 8s 1ms/step - loss: 2.0600\n",
      "Epoch 128/200\n",
      "6211/6211 [==============================] - 8s 1ms/step - loss: 2.0276\n",
      "Epoch 129/200\n",
      "6211/6211 [==============================] - 8s 1ms/step - loss: 2.0463\n",
      "Epoch 130/200\n",
      "6211/6211 [==============================] - 8s 1ms/step - loss: 2.0445\n",
      "Epoch 131/200\n",
      "6211/6211 [==============================] - 9s 1ms/step - loss: 2.0353\n",
      "Epoch 132/200\n",
      "6211/6211 [==============================] - 9s 1ms/step - loss: 2.0315\n",
      "Epoch 133/200\n",
      "6211/6211 [==============================] - 8s 1ms/step - loss: 2.0297\n",
      "Epoch 134/200\n",
      "6211/6211 [==============================] - 8s 1ms/step - loss: 2.0208\n",
      "Epoch 135/200\n",
      "6211/6211 [==============================] - 8s 1ms/step - loss: 2.0694\n",
      "Epoch 136/200\n",
      "6211/6211 [==============================] - 8s 1ms/step - loss: 2.0237\n",
      "Epoch 137/200\n",
      "6211/6211 [==============================] - 8s 1ms/step - loss: 2.0180\n",
      "Epoch 138/200\n",
      "6211/6211 [==============================] - 8s 1ms/step - loss: 2.0153\n",
      "Epoch 139/200\n",
      "6211/6211 [==============================] - 8s 1ms/step - loss: 2.0174\n",
      "Epoch 140/200\n",
      "6211/6211 [==============================] - 8s 1ms/step - loss: 2.0208\n",
      "Epoch 141/200\n",
      "6211/6211 [==============================] - 8s 1ms/step - loss: 2.0125\n",
      "Epoch 142/200\n",
      "6211/6211 [==============================] - 8s 1ms/step - loss: 2.1739\n",
      "Epoch 143/200\n",
      "6211/6211 [==============================] - 8s 1ms/step - loss: 2.0776\n",
      "Epoch 144/200\n",
      "6211/6211 [==============================] - 8s 1ms/step - loss: 2.0528\n",
      "Epoch 145/200\n",
      "6211/6211 [==============================] - 8s 1ms/step - loss: 2.0318\n",
      "Epoch 146/200\n",
      "6211/6211 [==============================] - 8s 1ms/step - loss: 2.0200\n",
      "Epoch 147/200\n",
      "6211/6211 [==============================] - 8s 1ms/step - loss: 2.0214\n",
      "Epoch 148/200\n",
      "6211/6211 [==============================] - 8s 1ms/step - loss: 2.0061\n",
      "Epoch 149/200\n",
      "6211/6211 [==============================] - 8s 1ms/step - loss: 2.0211\n",
      "Epoch 150/200\n",
      "6211/6211 [==============================] - 7s 1ms/step - loss: 2.0246\n",
      "Epoch 151/200\n",
      "6211/6211 [==============================] - 8s 1ms/step - loss: 2.0062\n",
      "Epoch 152/200\n",
      "6211/6211 [==============================] - 8s 1ms/step - loss: 2.0011\n",
      "Epoch 153/200\n",
      "6211/6211 [==============================] - 8s 1ms/step - loss: 2.0546\n",
      "Epoch 154/200\n",
      "6211/6211 [==============================] - 8s 1ms/step - loss: 2.0332\n",
      "Epoch 155/200\n",
      "6211/6211 [==============================] - 8s 1ms/step - loss: 2.0088\n",
      "Epoch 156/200\n",
      "6211/6211 [==============================] - 8s 1ms/step - loss: 2.0090\n",
      "Epoch 157/200\n",
      "6211/6211 [==============================] - 8s 1ms/step - loss: 2.0003\n",
      "Epoch 158/200\n",
      "6211/6211 [==============================] - 8s 1ms/step - loss: 2.0133\n",
      "Epoch 159/200\n",
      "6211/6211 [==============================] - 8s 1ms/step - loss: 2.0018\n",
      "Epoch 160/200\n",
      "6211/6211 [==============================] - 8s 1ms/step - loss: 2.0077\n",
      "Epoch 161/200\n",
      "6211/6211 [==============================] - 8s 1ms/step - loss: 1.9867\n",
      "Epoch 162/200\n",
      "6211/6211 [==============================] - 8s 1ms/step - loss: 2.0311\n",
      "Epoch 163/200\n",
      "6211/6211 [==============================] - 8s 1ms/step - loss: 1.9942\n",
      "Epoch 164/200\n",
      "6211/6211 [==============================] - 8s 1ms/step - loss: 1.9925\n",
      "Epoch 165/200\n",
      "6211/6211 [==============================] - 8s 1ms/step - loss: 1.9934\n",
      "Epoch 166/200\n",
      "6211/6211 [==============================] - 8s 1ms/step - loss: 1.9966\n",
      "Epoch 167/200\n",
      "6211/6211 [==============================] - 9s 1ms/step - loss: 1.9996\n",
      "Epoch 168/200\n",
      "6211/6211 [==============================] - 9s 2ms/step - loss: 1.9801\n",
      "Epoch 169/200\n",
      "6211/6211 [==============================] - 8s 1ms/step - loss: 1.9930\n",
      "Epoch 170/200\n",
      "6211/6211 [==============================] - 8s 1ms/step - loss: 2.0140\n",
      "Epoch 171/200\n",
      "6211/6211 [==============================] - 8s 1ms/step - loss: 1.9782\n",
      "Epoch 172/200\n",
      "6211/6211 [==============================] - 8s 1ms/step - loss: 1.9749\n",
      "Epoch 173/200\n",
      "6211/6211 [==============================] - 8s 1ms/step - loss: 1.9825\n",
      "Epoch 174/200\n",
      "6211/6211 [==============================] - 8s 1ms/step - loss: 1.9693\n",
      "Epoch 175/200\n",
      "6211/6211 [==============================] - 8s 1ms/step - loss: 1.9641\n",
      "Epoch 176/200\n",
      "6211/6211 [==============================] - 8s 1ms/step - loss: 1.9714\n",
      "Epoch 177/200\n",
      "6211/6211 [==============================] - 8s 1ms/step - loss: 2.0324\n",
      "Epoch 178/200\n",
      "6211/6211 [==============================] - 8s 1ms/step - loss: 1.9742\n",
      "Epoch 179/200\n",
      "6211/6211 [==============================] - 8s 1ms/step - loss: 1.9731\n",
      "Epoch 180/200\n",
      "6211/6211 [==============================] - 8s 1ms/step - loss: 1.9805\n",
      "Epoch 181/200\n",
      "6211/6211 [==============================] - 8s 1ms/step - loss: 2.0333\n",
      "Epoch 182/200\n",
      "6211/6211 [==============================] - 8s 1ms/step - loss: 2.0006\n",
      "Epoch 183/200\n",
      "6211/6211 [==============================] - 8s 1ms/step - loss: 1.9662\n",
      "Epoch 184/200\n",
      "6211/6211 [==============================] - 8s 1ms/step - loss: 1.9689\n",
      "Epoch 185/200\n",
      "6211/6211 [==============================] - 8s 1ms/step - loss: 1.9696\n",
      "Epoch 186/200\n",
      "6211/6211 [==============================] - 9s 1ms/step - loss: 2.0033\n",
      "Epoch 187/200\n",
      "6211/6211 [==============================] - 8s 1ms/step - loss: 1.9732\n",
      "Epoch 188/200\n",
      "6211/6211 [==============================] - 8s 1ms/step - loss: 2.0027\n",
      "Epoch 189/200\n",
      "6211/6211 [==============================] - 8s 1ms/step - loss: 1.9619\n",
      "Epoch 190/200\n",
      "6211/6211 [==============================] - 8s 1ms/step - loss: 1.9502\n",
      "Epoch 191/200\n",
      "6211/6211 [==============================] - 8s 1ms/step - loss: 1.9522\n",
      "Epoch 192/200\n",
      "6211/6211 [==============================] - 8s 1ms/step - loss: 1.9492\n",
      "Epoch 193/200\n",
      "6211/6211 [==============================] - 8s 1ms/step - loss: 1.9691\n",
      "Epoch 194/200\n",
      "6211/6211 [==============================] - 8s 1ms/step - loss: 1.9714\n",
      "Epoch 195/200\n",
      "6211/6211 [==============================] - 8s 1ms/step - loss: 1.9439\n",
      "Epoch 196/200\n",
      "6211/6211 [==============================] - 9s 1ms/step - loss: 1.9621\n",
      "Epoch 197/200\n",
      "6211/6211 [==============================] - 8s 1ms/step - loss: 1.9664\n",
      "Epoch 198/200\n",
      "6211/6211 [==============================] - 9s 1ms/step - loss: 1.9373\n",
      "Epoch 199/200\n",
      "6211/6211 [==============================] - 9s 1ms/step - loss: 1.9313\n",
      "Epoch 200/200\n",
      "6211/6211 [==============================] - 9s 1ms/step - loss: 1.9430\n"
     ]
    }
   ],
   "source": [
    "LSTM_model.compile(optimizer='adam',loss='mae')\n",
    "history=LSTM_model.fit(train_X_transformed,train_y,epochs=200,batch_size=64,verbose=True)"
   ]
  },
  {
   "cell_type": "code",
   "execution_count": 27,
   "metadata": {
    "collapsed": true
   },
   "outputs": [],
   "source": [
    "test_X_scaled_transformed = test_X_scaled.reshape(test_X_scaled.shape[0],\n",
    "                                                  test_X_scaled.shape[1], 1)\n",
    "y_predict = LSTM_model.predict(test_X_scaled_transformed)"
   ]
  },
  {
   "cell_type": "code",
   "execution_count": null,
   "metadata": {
    "collapsed": true
   },
   "outputs": [],
   "source": []
  },
  {
   "cell_type": "code",
   "execution_count": 28,
   "metadata": {
    "collapsed": true
   },
   "outputs": [],
   "source": [
    "submission = pd.read_csv('F:\\\\Qplus\\\\Kaggle\\\\sample_submission.csv', index_col='seg_id')"
   ]
  },
  {
   "cell_type": "code",
   "execution_count": 29,
   "metadata": {
    "collapsed": true
   },
   "outputs": [],
   "source": [
    "submission['time_to_failure'] = y_predict"
   ]
  },
  {
   "cell_type": "code",
   "execution_count": 30,
   "metadata": {
    "collapsed": true
   },
   "outputs": [],
   "source": [
    "submission.to_csv('F:\\\\Qplus\\\\Kaggle\\\\submission.csv',index=True)"
   ]
  },
  {
   "cell_type": "code",
   "execution_count": null,
   "metadata": {
    "collapsed": true
   },
   "outputs": [],
   "source": []
  },
  {
   "cell_type": "code",
   "execution_count": null,
   "metadata": {
    "collapsed": true
   },
   "outputs": [],
   "source": []
  },
  {
   "cell_type": "code",
   "execution_count": null,
   "metadata": {
    "collapsed": true
   },
   "outputs": [],
   "source": []
  },
  {
   "cell_type": "code",
   "execution_count": null,
   "metadata": {
    "collapsed": true
   },
   "outputs": [],
   "source": []
  },
  {
   "cell_type": "code",
   "execution_count": 31,
   "metadata": {
    "collapsed": true
   },
   "outputs": [],
   "source": [
    "#1 we will use LSTM model first to predict time_to_failure\n",
    "# monitored criterion should in the metrics list for model's compile function\n",
    "callbacks_earlystopping=[keras.callbacks.EarlyStopping(patience=20,monitor='val_loss')]"
   ]
  },
  {
   "cell_type": "code",
   "execution_count": 32,
   "metadata": {
    "collapsed": true
   },
   "outputs": [],
   "source": [
    "LSTM_model=Sequential()\n",
    "LSTM_model.add(LSTM(100,input_shape=(train_X_transformed.shape[1],train_X_transformed.shape[2])))\n",
    "LSTM_model.add(Dense(1))"
   ]
  },
  {
   "cell_type": "code",
   "execution_count": 33,
   "metadata": {
    "collapsed": true
   },
   "outputs": [
    {
     "name": "stdout",
     "output_type": "stream",
     "text": [
      "Train on 4658 samples, validate on 1553 samples\n",
      "Epoch 1/500\n",
      "4658/4658 [==============================] - 7s 2ms/step - loss: 20.1851 - mean_absolute_error: 3.5979 - val_loss: 12.8108 - val_mean_absolute_error: 2.9303\n",
      "Epoch 2/500\n",
      "4658/4658 [==============================] - 6s 1ms/step - loss: 13.5088 - mean_absolute_error: 3.0497 - val_loss: 12.7291 - val_mean_absolute_error: 2.9106\n",
      "Epoch 3/500\n",
      "4658/4658 [==============================] - 6s 1ms/step - loss: 13.4233 - mean_absolute_error: 3.0429 - val_loss: 12.8192 - val_mean_absolute_error: 2.9357\n",
      "Epoch 4/500\n",
      "4658/4658 [==============================] - 6s 1ms/step - loss: 13.3741 - mean_absolute_error: 3.0342 - val_loss: 12.7713 - val_mean_absolute_error: 2.9284\n",
      "Epoch 5/500\n",
      "4658/4658 [==============================] - 6s 1ms/step - loss: 13.2963 - mean_absolute_error: 3.0271 - val_loss: 11.9435 - val_mean_absolute_error: 2.8201\n",
      "Epoch 6/500\n",
      "4658/4658 [==============================] - 6s 1ms/step - loss: 13.3335 - mean_absolute_error: 3.0333 - val_loss: 12.6486 - val_mean_absolute_error: 2.9035\n",
      "Epoch 7/500\n",
      "4658/4658 [==============================] - 6s 1ms/step - loss: 13.3243 - mean_absolute_error: 3.0282 - val_loss: 12.3466 - val_mean_absolute_error: 2.8498\n",
      "Epoch 8/500\n",
      "4658/4658 [==============================] - 6s 1ms/step - loss: 13.1595 - mean_absolute_error: 3.0053 - val_loss: 13.3797 - val_mean_absolute_error: 3.0285\n",
      "Epoch 9/500\n",
      "4658/4658 [==============================] - 6s 1ms/step - loss: 13.2101 - mean_absolute_error: 3.0116 - val_loss: 11.9722 - val_mean_absolute_error: 2.7508\n",
      "Epoch 10/500\n",
      "4658/4658 [==============================] - 6s 1ms/step - loss: 11.1183 - mean_absolute_error: 2.7004 - val_loss: 9.1034 - val_mean_absolute_error: 2.4080\n",
      "Epoch 11/500\n",
      "4658/4658 [==============================] - 6s 1ms/step - loss: 8.5556 - mean_absolute_error: 2.2883 - val_loss: 9.0436 - val_mean_absolute_error: 2.2498\n",
      "Epoch 12/500\n",
      "4658/4658 [==============================] - 6s 1ms/step - loss: 8.2220 - mean_absolute_error: 2.2336 - val_loss: 9.3927 - val_mean_absolute_error: 2.4354\n",
      "Epoch 13/500\n",
      "4658/4658 [==============================] - 6s 1ms/step - loss: 8.4656 - mean_absolute_error: 2.2749 - val_loss: 8.3584 - val_mean_absolute_error: 2.2637\n",
      "Epoch 14/500\n",
      "4658/4658 [==============================] - 6s 1ms/step - loss: 8.0077 - mean_absolute_error: 2.2004 - val_loss: 9.4069 - val_mean_absolute_error: 2.3850\n",
      "Epoch 15/500\n",
      "4658/4658 [==============================] - 6s 1ms/step - loss: 8.0877 - mean_absolute_error: 2.2171 - val_loss: 9.0969 - val_mean_absolute_error: 2.3327\n",
      "Epoch 16/500\n",
      "4658/4658 [==============================] - 6s 1ms/step - loss: 8.0632 - mean_absolute_error: 2.2086 - val_loss: 8.9230 - val_mean_absolute_error: 2.3173\n",
      "Epoch 17/500\n",
      "4658/4658 [==============================] - 6s 1ms/step - loss: 8.0955 - mean_absolute_error: 2.2031 - val_loss: 9.5094 - val_mean_absolute_error: 2.4384\n",
      "Epoch 18/500\n",
      "4658/4658 [==============================] - 6s 1ms/step - loss: 8.1262 - mean_absolute_error: 2.2325 - val_loss: 8.8441 - val_mean_absolute_error: 2.3013\n",
      "Epoch 19/500\n",
      "4658/4658 [==============================] - 7s 1ms/step - loss: 7.9602 - mean_absolute_error: 2.1943 - val_loss: 9.0193 - val_mean_absolute_error: 2.3840\n",
      "Epoch 20/500\n",
      "4658/4658 [==============================] - 6s 1ms/step - loss: 7.9549 - mean_absolute_error: 2.1977 - val_loss: 9.0440 - val_mean_absolute_error: 2.2090\n",
      "Epoch 21/500\n",
      "4658/4658 [==============================] - 6s 1ms/step - loss: 7.8954 - mean_absolute_error: 2.1770 - val_loss: 8.8535 - val_mean_absolute_error: 2.3239\n",
      "Epoch 22/500\n",
      "4658/4658 [==============================] - 6s 1ms/step - loss: 7.8262 - mean_absolute_error: 2.1739 - val_loss: 8.9725 - val_mean_absolute_error: 2.3348\n",
      "Epoch 23/500\n",
      "4658/4658 [==============================] - 6s 1ms/step - loss: 7.8374 - mean_absolute_error: 2.1736 - val_loss: 9.1367 - val_mean_absolute_error: 2.3703\n",
      "Epoch 24/500\n",
      "4658/4658 [==============================] - 6s 1ms/step - loss: 7.7799 - mean_absolute_error: 2.1614 - val_loss: 9.1525 - val_mean_absolute_error: 2.3756\n",
      "Epoch 25/500\n",
      "4658/4658 [==============================] - 6s 1ms/step - loss: 7.9643 - mean_absolute_error: 2.1906 - val_loss: 8.9703 - val_mean_absolute_error: 2.3812\n",
      "Epoch 26/500\n",
      "4658/4658 [==============================] - 6s 1ms/step - loss: 7.7640 - mean_absolute_error: 2.1593 - val_loss: 8.9211 - val_mean_absolute_error: 2.3213\n",
      "Epoch 27/500\n",
      "4658/4658 [==============================] - 6s 1ms/step - loss: 7.8324 - mean_absolute_error: 2.1690 - val_loss: 8.8208 - val_mean_absolute_error: 2.3442\n",
      "Epoch 28/500\n",
      "4658/4658 [==============================] - 7s 1ms/step - loss: 7.7815 - mean_absolute_error: 2.1623 - val_loss: 9.1057 - val_mean_absolute_error: 2.3534\n",
      "Epoch 29/500\n",
      "4658/4658 [==============================] - 6s 1ms/step - loss: 7.7364 - mean_absolute_error: 2.1588 - val_loss: 8.9285 - val_mean_absolute_error: 2.3798\n",
      "Epoch 30/500\n",
      "4658/4658 [==============================] - 6s 1ms/step - loss: 8.1018 - mean_absolute_error: 2.2258 - val_loss: 8.9738 - val_mean_absolute_error: 2.3441\n",
      "Epoch 31/500\n",
      "4658/4658 [==============================] - 6s 1ms/step - loss: 7.9562 - mean_absolute_error: 2.1993 - val_loss: 8.9829 - val_mean_absolute_error: 2.3707\n",
      "Epoch 32/500\n",
      "4658/4658 [==============================] - 6s 1ms/step - loss: 7.8153 - mean_absolute_error: 2.1763 - val_loss: 8.7092 - val_mean_absolute_error: 2.3235\n",
      "Epoch 33/500\n",
      "4658/4658 [==============================] - 6s 1ms/step - loss: 7.7914 - mean_absolute_error: 2.1689 - val_loss: 8.6889 - val_mean_absolute_error: 2.2734\n"
     ]
    }
   ],
   "source": [
    "LSTM_model.compile(optimizer='adam',loss='mean_squared_error',metrics=['mae'])\n",
    "history=LSTM_model.fit(train_X_transformed,train_y,epochs=500,batch_size=64,\n",
    "                       validation_split=0.25,callbacks=callbacks_earlystopping,verbose=True)"
   ]
  },
  {
   "cell_type": "code",
   "execution_count": 34,
   "metadata": {
    "collapsed": false
   },
   "outputs": [
    {
     "data": {
      "text/plain": [
       "dict_keys(['val_loss', 'loss', 'mean_absolute_error', 'val_mean_absolute_error'])"
      ]
     },
     "execution_count": 34,
     "metadata": {},
     "output_type": "execute_result"
    }
   ],
   "source": [
    "history.history.keys()"
   ]
  },
  {
   "cell_type": "code",
   "execution_count": 35,
   "metadata": {
    "collapsed": false
   },
   "outputs": [
    {
     "data": {
      "text/plain": [
       "<matplotlib.text.Text at 0x1f528decb00>"
      ]
     },
     "execution_count": 35,
     "metadata": {},
     "output_type": "execute_result"
    }
   ],
   "source": [
    "plt.plot(history.history['val_loss'])\n",
    "plt.plot(history.history['loss'])\n",
    "plt.legend(['val_loss','loss'])\n",
    "plt.xlabel('epoch')\n",
    "plt.ylabel('loss')"
   ]
  },
  {
   "cell_type": "code",
   "execution_count": 36,
   "metadata": {
    "collapsed": false
   },
   "outputs": [
    {
     "data": {
      "image/png": "[encoded data removed]",
      "text/plain": [
       "<matplotlib.figure.Figure at 0x1f528dc4940>"
      ]
     },
     "metadata": {},
     "output_type": "display_data"
    }
   ],
   "source": [
    "plt.show()"
   ]
  },
  {
   "cell_type": "code",
   "execution_count": 37,
   "metadata": {
    "collapsed": false
   },
   "outputs": [
    {
     "data": {
      "text/plain": [
       "<matplotlib.text.Text at 0x1f528eb54e0>"
      ]
     },
     "execution_count": 37,
     "metadata": {},
     "output_type": "execute_result"
    }
   ],
   "source": [
    "plt.plot(history.history['val_mean_absolute_error'])\n",
    "plt.plot(history.history['mean_absolute_error'])\n",
    "plt.legend(['val_mae','mae'])\n",
    "plt.xlabel('epoch')\n",
    "plt.ylabel('mae')"
   ]
  },
  {
   "cell_type": "code",
   "execution_count": 38,
   "metadata": {
    "collapsed": false
   },
   "outputs": [
    {
     "data": {
      "image/png": "[encoded data removed]",
      "text/plain": [
       "<matplotlib.figure.Figure at 0x1f528e784a8>"
      ]
     },
     "metadata": {},
     "output_type": "display_data"
    }
   ],
   "source": [
    "plt.show()"
   ]
  },
  {
   "cell_type": "code",
   "execution_count": null,
   "metadata": {
    "collapsed": true
   },
   "outputs": [],
   "source": []
  },
  {
   "cell_type": "code",
   "execution_count": 39,
   "metadata": {
    "collapsed": true
   },
   "outputs": [],
   "source": [
    "from sklearn.decomposition import PCA"
   ]
  },
  {
   "cell_type": "code",
   "execution_count": 40,
   "metadata": {
    "collapsed": false
   },
   "outputs": [
    {
     "data": {
      "text/plain": [
       "PCA(copy=True, iterated_power='auto', n_components=None, random_state=None,\n",
       "  svd_solver='auto', tol=0.0, whiten=False)"
      ]
     },
     "execution_count": 40,
     "metadata": {},
     "output_type": "execute_result"
    }
   ],
   "source": [
    "pca=PCA()\n",
    "pca.fit(train_X)"
   ]
  },
  {
   "cell_type": "code",
   "execution_count": 42,
   "metadata": {
    "collapsed": false
   },
   "outputs": [
    {
     "data": {
      "text/plain": [
       "array([8.41773856e-01, 1.49222964e-01, 5.26279957e-03, 1.81721465e-03,\n",
       "       1.12249301e-03, 4.98046817e-04, 2.50758407e-04, 2.08401499e-05,\n",
       "       1.08588783e-05, 6.79904160e-06, 4.10453871e-06, 3.07468120e-06,\n",
       "       2.06126139e-06, 1.17673601e-06, 8.67891328e-07, 4.00856521e-07,\n",
       "       3.32690160e-07, 3.21226874e-07, 2.60674223e-07, 1.99878370e-07,\n",
       "       1.10475835e-07, 9.36591667e-08, 7.17837183e-08, 6.43929724e-08,\n",
       "       5.57195356e-08, 3.61585929e-08, 2.35190610e-08, 2.32992475e-08,\n",
       "       1.94612765e-08, 1.72480189e-08, 1.38822416e-08, 7.08823403e-09,\n",
       "       5.90947644e-09, 5.00611231e-09, 3.37600856e-09, 2.81356977e-09,\n",
       "       2.63027478e-09, 2.43649719e-09, 2.22062561e-09, 1.61033364e-09,\n",
       "       1.41721157e-09, 1.26601484e-09, 9.39326912e-10, 7.44339191e-10,\n",
       "       6.91925040e-10, 5.50009896e-10, 3.55701185e-10, 2.22826230e-10,\n",
       "       1.80070273e-10, 9.94377553e-11, 9.82844590e-11, 6.75587191e-11,\n",
       "       5.85109141e-11, 4.98157563e-11, 3.84947334e-11, 3.56889615e-11,\n",
       "       3.26948755e-11, 2.60047745e-11, 2.22680146e-11, 2.06428712e-11,\n",
       "       1.87213989e-11, 1.75201296e-11, 1.53020767e-11, 1.41013107e-11,\n",
       "       1.30770587e-11, 9.95728581e-12, 9.11945708e-12, 8.76364040e-12,\n",
       "       7.10625375e-12, 6.30521505e-12, 4.80620616e-12, 4.16355708e-12,\n",
       "       3.79206238e-12, 2.82986585e-12, 2.16686334e-12, 1.61199378e-12,\n",
       "       1.24489779e-12, 1.23046270e-12, 1.04758869e-12, 8.71639785e-13,\n",
       "       7.32746527e-13, 6.50766695e-13, 5.63777227e-13, 4.79165609e-13,\n",
       "       3.92166148e-13, 2.62259613e-13, 2.58677757e-13, 2.10217394e-13,\n",
       "       1.67620156e-13, 1.51206997e-13, 1.16093267e-13, 9.64644121e-14,\n",
       "       8.01104051e-14, 7.10726319e-14, 6.90887023e-14, 6.39616692e-14,\n",
       "       4.58919689e-14, 3.87149036e-14, 3.48233917e-14, 3.21441307e-14,\n",
       "       1.66705801e-14, 1.40526348e-14, 1.29934659e-14, 1.12655186e-14,\n",
       "       8.57190539e-15, 7.77526994e-15, 7.21362562e-15, 6.40665901e-15,\n",
       "       5.74919114e-15, 3.31692476e-15, 3.18560414e-15, 2.35302004e-15,\n",
       "       7.35509573e-16, 1.79958351e-16, 1.15684359e-16, 7.76731132e-17,\n",
       "       2.91702664e-17, 1.61737545e-17, 8.45104690e-18, 2.40171190e-18,\n",
       "       8.26477337e-19, 6.82549770e-19, 3.61488392e-19, 2.95254004e-19,\n",
       "       1.96708108e-19, 1.63958838e-19, 1.19883789e-19, 6.68900305e-21,\n",
       "       3.08458982e-21, 1.59319782e-22, 5.99138350e-23, 7.90343951e-32,\n",
       "       5.20346453e-32, 7.26733585e-33, 7.26733585e-33, 7.26733585e-33,\n",
       "       7.26733585e-33, 7.26733585e-33, 7.26733585e-33, 7.26733585e-33,\n",
       "       7.26733585e-33, 7.26733585e-33, 7.26733585e-33, 7.26733585e-33,\n",
       "       7.26733585e-33])"
      ]
     },
     "execution_count": 42,
     "metadata": {},
     "output_type": "execute_result"
    }
   ],
   "source": [
    "pca.explained_variance_ratio_"
   ]
  },
  {
   "cell_type": "code",
   "execution_count": 43,
   "metadata": {
    "collapsed": true
   },
   "outputs": [],
   "source": [
    "#obviously only the "
   ]
  },
  {
   "cell_type": "code",
   "execution_count": 44,
   "metadata": {
    "collapsed": false
   },
   "outputs": [
    {
     "data": {
      "text/plain": [
       "PCA(copy=True, iterated_power='auto', n_components=None, random_state=None,\n",
       "  svd_solver='auto', tol=0.0, whiten=False)"
      ]
     },
     "execution_count": 44,
     "metadata": {},
     "output_type": "execute_result"
    }
   ],
   "source": [
    "pca=PCA()\n",
    "pca.fit(train_X_scaled)"
   ]
  },
  {
   "cell_type": "code",
   "execution_count": 45,
   "metadata": {
    "collapsed": true
   },
   "outputs": [
    {
     "data": {
      "text/plain": [
       "array([5.56637514e-01, 1.19698307e-01, 7.36097614e-02, 3.50717070e-02,\n",
       "       2.53909130e-02, 2.27240900e-02, 2.03581466e-02, 1.71079806e-02,\n",
       "       1.24504463e-02, 1.16851000e-02, 9.74178434e-03, 9.05973247e-03,\n",
       "       7.99872216e-03, 7.70556247e-03, 7.58245935e-03, 6.20729873e-03,\n",
       "       5.44815324e-03, 4.96681774e-03, 4.87861976e-03, 3.64293358e-03,\n",
       "       3.40691134e-03, 3.36823484e-03, 3.01961454e-03, 2.81408706e-03,\n",
       "       2.69277665e-03, 2.54587490e-03, 2.03298786e-03, 1.86558880e-03,\n",
       "       1.64262926e-03, 1.53967156e-03, 1.34940622e-03, 1.31783524e-03,\n",
       "       1.15148160e-03, 9.05607435e-04, 7.96485123e-04, 7.54704456e-04,\n",
       "       6.78824775e-04, 5.97773943e-04, 5.57216529e-04, 5.11291722e-04,\n",
       "       4.40587758e-04, 3.92527402e-04, 3.04914556e-04, 2.85688244e-04,\n",
       "       2.37251626e-04, 2.24285709e-04, 1.96142660e-04, 1.90762603e-04,\n",
       "       1.78618605e-04, 1.72912960e-04, 1.44656038e-04, 1.36317928e-04,\n",
       "       1.24557520e-04, 1.02023711e-04, 9.87340052e-05, 8.99193435e-05,\n",
       "       8.58686729e-05, 8.08696209e-05, 7.68411040e-05, 7.24323480e-05,\n",
       "       6.99713279e-05, 6.23538116e-05, 5.97099636e-05, 5.63685706e-05,\n",
       "       5.42478632e-05, 5.08350942e-05, 4.79048417e-05, 4.59733800e-05,\n",
       "       4.00229536e-05, 3.66164903e-05, 3.17177516e-05, 3.07631550e-05,\n",
       "       2.81299398e-05, 2.58999937e-05, 2.16493247e-05, 1.82448635e-05,\n",
       "       1.75933010e-05, 1.67030175e-05, 1.46629722e-05, 1.36532299e-05,\n",
       "       1.23968540e-05, 9.67594701e-06, 8.27575313e-06, 7.41514452e-06,\n",
       "       7.16293911e-06, 6.24787848e-06, 6.10731565e-06, 5.11056527e-06,\n",
       "       5.00140676e-06, 4.43190420e-06, 3.77849941e-06, 3.70122274e-06,\n",
       "       3.30387705e-06, 3.18019836e-06, 2.75683850e-06, 2.54673686e-06,\n",
       "       2.20255323e-06, 1.91081166e-06, 1.82652872e-06, 1.69731010e-06,\n",
       "       1.37882210e-06, 1.29198668e-06, 1.04035939e-06, 9.22024751e-07,\n",
       "       5.01225664e-07, 4.36208690e-07, 3.12653394e-07, 2.82704791e-07,\n",
       "       2.16254025e-07, 1.64300682e-07, 1.55990350e-07, 1.01433539e-07,\n",
       "       9.08067359e-08, 8.80389944e-08, 7.00466693e-08, 5.56330359e-08,\n",
       "       4.79910991e-08, 3.46722262e-08, 3.05692374e-08, 1.76620283e-08,\n",
       "       1.66525680e-08, 1.04891215e-08, 6.27192996e-09, 2.45090661e-09,\n",
       "       2.15646601e-09, 1.97827698e-09, 7.17511577e-10, 6.79210872e-10,\n",
       "       2.57708890e-10, 1.85029102e-10, 1.27131227e-10, 2.71025400e-11,\n",
       "       1.32608186e-30, 3.49795254e-33, 3.49795254e-33, 3.49795254e-33,\n",
       "       3.49795254e-33, 3.49795254e-33, 3.49795254e-33, 3.49795254e-33,\n",
       "       3.49795254e-33, 3.49795254e-33, 3.49795254e-33, 3.49795254e-33,\n",
       "       3.22992421e-33])"
      ]
     },
     "execution_count": 45,
     "metadata": {},
     "output_type": "execute_result"
    }
   ],
   "source": [
    "pca.explained_variance_ratio_"
   ]
  },
  {
   "cell_type": "code",
   "execution_count": 46,
   "metadata": {
    "collapsed": true
   },
   "outputs": [],
   "source": [
    "#from the pca analysis, we will only use the first 32 components\n",
    "pca=PCA(n_components=32)\n",
    "X_dim_reduced=pca.fit_transform(train_X_scaled)"
   ]
  },
  {
   "cell_type": "code",
   "execution_count": 47,
   "metadata": {
    "collapsed": false
   },
   "outputs": [],
   "source": [
    "X_dim_reduced_transformed=X_dim_reduced.reshape(X_dim_reduced.shape[0],X_dim_reduced.shape[1],1)"
   ]
  },
  {
   "cell_type": "code",
   "execution_count": 48,
   "metadata": {
    "collapsed": true
   },
   "outputs": [
    {
     "name": "stdout",
     "output_type": "stream",
     "text": [
      "Train on 4658 samples, validate on 1553 samples\n",
      "Epoch 1/500\n",
      "4658/4658 [==============================] - 2s 517us/step - loss: 19.8421 - mean_absolute_error: 3.5779 - val_loss: 12.8849 - val_mean_absolute_error: 2.9334\n",
      "Epoch 2/500\n",
      "4658/4658 [==============================] - 1s 316us/step - loss: 13.5183 - mean_absolute_error: 3.0577 - val_loss: 12.8505 - val_mean_absolute_error: 2.9211\n",
      "Epoch 3/500\n",
      "4658/4658 [==============================] - 2s 367us/step - loss: 13.5526 - mean_absolute_error: 3.0580 - val_loss: 13.0710 - val_mean_absolute_error: 2.9751\n",
      "Epoch 4/500\n",
      "4658/4658 [==============================] - 2s 351us/step - loss: 13.5091 - mean_absolute_error: 3.0536 - val_loss: 13.0211 - val_mean_absolute_error: 2.9668\n",
      "Epoch 5/500\n",
      "4658/4658 [==============================] - 2s 355us/step - loss: 13.5164 - mean_absolute_error: 3.0566 - val_loss: 12.8773 - val_mean_absolute_error: 2.9366\n",
      "Epoch 6/500\n",
      "4658/4658 [==============================] - 2s 326us/step - loss: 13.5630 - mean_absolute_error: 3.0587 - val_loss: 12.9354 - val_mean_absolute_error: 2.9504\n",
      "Epoch 7/500\n",
      "4658/4658 [==============================] - 1s 306us/step - loss: 13.5405 - mean_absolute_error: 3.0584 - val_loss: 12.8760 - val_mean_absolute_error: 2.9374\n",
      "Epoch 8/500\n",
      "4658/4658 [==============================] - 1s 312us/step - loss: 13.5414 - mean_absolute_error: 3.0597 - val_loss: 12.8651 - val_mean_absolute_error: 2.9352\n",
      "Epoch 9/500\n",
      "4658/4658 [==============================] - 1s 308us/step - loss: 13.5712 - mean_absolute_error: 3.0586 - val_loss: 12.8191 - val_mean_absolute_error: 2.9064\n",
      "Epoch 10/500\n",
      "4658/4658 [==============================] - 1s 318us/step - loss: 13.5335 - mean_absolute_error: 3.0560 - val_loss: 12.9015 - val_mean_absolute_error: 2.9443\n",
      "Epoch 11/500\n",
      "4658/4658 [==============================] - 1s 308us/step - loss: 13.5088 - mean_absolute_error: 3.0548 - val_loss: 12.8218 - val_mean_absolute_error: 2.9230\n",
      "Epoch 12/500\n",
      "4658/4658 [==============================] - 1s 312us/step - loss: 13.5052 - mean_absolute_error: 3.0546 - val_loss: 12.8343 - val_mean_absolute_error: 2.9284\n",
      "Epoch 13/500\n",
      "4658/4658 [==============================] - 1s 314us/step - loss: 13.4985 - mean_absolute_error: 3.0519 - val_loss: 12.7943 - val_mean_absolute_error: 2.9131\n",
      "Epoch 14/500\n",
      "4658/4658 [==============================] - 1s 311us/step - loss: 13.4824 - mean_absolute_error: 3.0496 - val_loss: 12.7047 - val_mean_absolute_error: 2.9105\n",
      "Epoch 15/500\n",
      "4658/4658 [==============================] - 1s 321us/step - loss: 12.3950 - mean_absolute_error: 2.8998 - val_loss: 10.4944 - val_mean_absolute_error: 2.5412\n",
      "Epoch 16/500\n",
      "4658/4658 [==============================] - 2s 331us/step - loss: 11.0107 - mean_absolute_error: 2.6990 - val_loss: 9.1476 - val_mean_absolute_error: 2.3056\n",
      "Epoch 17/500\n",
      "4658/4658 [==============================] - 1s 312us/step - loss: 9.5894 - mean_absolute_error: 2.4873 - val_loss: 9.4267 - val_mean_absolute_error: 2.4130\n",
      "Epoch 18/500\n",
      "4658/4658 [==============================] - 1s 310us/step - loss: 9.3657 - mean_absolute_error: 2.4394 - val_loss: 9.2798 - val_mean_absolute_error: 2.4152\n",
      "Epoch 19/500\n",
      "4658/4658 [==============================] - 1s 311us/step - loss: 9.0115 - mean_absolute_error: 2.3942 - val_loss: 9.1117 - val_mean_absolute_error: 2.3621\n",
      "Epoch 20/500\n",
      "4658/4658 [==============================] - 1s 312us/step - loss: 8.8286 - mean_absolute_error: 2.3571 - val_loss: 9.5572 - val_mean_absolute_error: 2.4996\n",
      "Epoch 21/500\n",
      "4658/4658 [==============================] - 1s 309us/step - loss: 8.8660 - mean_absolute_error: 2.3644 - val_loss: 9.3165 - val_mean_absolute_error: 2.3291\n",
      "Epoch 22/500\n",
      "4658/4658 [==============================] - 1s 313us/step - loss: 8.6896 - mean_absolute_error: 2.3253 - val_loss: 9.4757 - val_mean_absolute_error: 2.3042\n",
      "Epoch 23/500\n",
      "4658/4658 [==============================] - 1s 311us/step - loss: 8.7667 - mean_absolute_error: 2.3418 - val_loss: 9.7289 - val_mean_absolute_error: 2.5079\n",
      "Epoch 24/500\n",
      "4658/4658 [==============================] - 1s 311us/step - loss: 8.8287 - mean_absolute_error: 2.3387 - val_loss: 8.9416 - val_mean_absolute_error: 2.3047\n",
      "Epoch 25/500\n",
      "4658/4658 [==============================] - 1s 311us/step - loss: 8.6440 - mean_absolute_error: 2.3244 - val_loss: 9.3723 - val_mean_absolute_error: 2.4416\n",
      "Epoch 26/500\n",
      "4658/4658 [==============================] - 1s 311us/step - loss: 8.5039 - mean_absolute_error: 2.3040 - val_loss: 9.2168 - val_mean_absolute_error: 2.3836\n",
      "Epoch 27/500\n",
      "4658/4658 [==============================] - 1s 312us/step - loss: 8.4660 - mean_absolute_error: 2.2916 - val_loss: 9.5282 - val_mean_absolute_error: 2.4654\n",
      "Epoch 28/500\n",
      "4658/4658 [==============================] - 1s 313us/step - loss: 8.3878 - mean_absolute_error: 2.2913 - val_loss: 9.7037 - val_mean_absolute_error: 2.4392\n",
      "Epoch 29/500\n",
      "4658/4658 [==============================] - 1s 309us/step - loss: 8.4518 - mean_absolute_error: 2.2849 - val_loss: 9.2691 - val_mean_absolute_error: 2.3539\n",
      "Epoch 30/500\n",
      "4658/4658 [==============================] - 1s 310us/step - loss: 8.3998 - mean_absolute_error: 2.2922 - val_loss: 9.6293 - val_mean_absolute_error: 2.5103\n",
      "Epoch 31/500\n",
      "4658/4658 [==============================] - 1s 313us/step - loss: 8.3255 - mean_absolute_error: 2.2686 - val_loss: 9.5918 - val_mean_absolute_error: 2.4785\n",
      "Epoch 32/500\n",
      "4658/4658 [==============================] - 1s 313us/step - loss: 8.2687 - mean_absolute_error: 2.2699 - val_loss: 9.7216 - val_mean_absolute_error: 2.4806\n",
      "Epoch 33/500\n",
      "4658/4658 [==============================] - 1s 313us/step - loss: 8.3068 - mean_absolute_error: 2.2636 - val_loss: 9.4444 - val_mean_absolute_error: 2.4446\n",
      "Epoch 34/500\n",
      "4658/4658 [==============================] - 1s 316us/step - loss: 8.2200 - mean_absolute_error: 2.2578 - val_loss: 9.6189 - val_mean_absolute_error: 2.5356\n",
      "Epoch 35/500\n",
      "4658/4658 [==============================] - 2s 344us/step - loss: 8.1508 - mean_absolute_error: 2.2536 - val_loss: 9.3574 - val_mean_absolute_error: 2.3753\n",
      "Epoch 36/500\n",
      "4658/4658 [==============================] - 1s 313us/step - loss: 8.1220 - mean_absolute_error: 2.2419 - val_loss: 9.6075 - val_mean_absolute_error: 2.4841\n",
      "Epoch 37/500\n",
      "4658/4658 [==============================] - 1s 318us/step - loss: 8.0591 - mean_absolute_error: 2.2298 - val_loss: 9.7642 - val_mean_absolute_error: 2.5003\n",
      "Epoch 38/500\n",
      "4658/4658 [==============================] - 1s 310us/step - loss: 8.0167 - mean_absolute_error: 2.2254 - val_loss: 9.8301 - val_mean_absolute_error: 2.5284\n",
      "Epoch 39/500\n",
      "4658/4658 [==============================] - 1s 315us/step - loss: 7.9718 - mean_absolute_error: 2.2120 - val_loss: 9.5566 - val_mean_absolute_error: 2.4551\n",
      "Epoch 40/500\n",
      "4658/4658 [==============================] - 1s 313us/step - loss: 8.0102 - mean_absolute_error: 2.2255 - val_loss: 10.2673 - val_mean_absolute_error: 2.6758\n",
      "Epoch 41/500\n",
      "4658/4658 [==============================] - 1s 318us/step - loss: 8.0056 - mean_absolute_error: 2.2233 - val_loss: 9.4429 - val_mean_absolute_error: 2.4828\n",
      "Epoch 42/500\n",
      "4658/4658 [==============================] - 1s 319us/step - loss: 7.9255 - mean_absolute_error: 2.2067 - val_loss: 9.5232 - val_mean_absolute_error: 2.5325\n",
      "Epoch 43/500\n",
      "4658/4658 [==============================] - 2s 380us/step - loss: 7.8437 - mean_absolute_error: 2.1942 - val_loss: 9.4655 - val_mean_absolute_error: 2.4878\n",
      "Epoch 44/500\n",
      "4658/4658 [==============================] - 1s 318us/step - loss: 7.9141 - mean_absolute_error: 2.2098 - val_loss: 9.5377 - val_mean_absolute_error: 2.5071\n"
     ]
    }
   ],
   "source": [
    "#2 we will use dimensions reduced by PCA, then apply LSTM model to predict time_to_failure\n",
    "# monitored criterion should in the metrics list for model's compile function\n",
    "callbacks_earlystopping=[keras.callbacks.EarlyStopping(patience=20,monitor='val_loss')]\n",
    "LSTM_model=Sequential()\n",
    "LSTM_model.add(LSTM(100,input_shape=(X_dim_reduced_transformed.shape[1],\n",
    "                                     X_dim_reduced_transformed.shape[2])))\n",
    "LSTM_model.add(Dense(1))\n",
    "LSTM_model.compile(optimizer='adam',loss='mean_squared_error',metrics=['mae'])\n",
    "history=LSTM_model.fit(X_dim_reduced_transformed,train_y,epochs=500,batch_size=64,\n",
    "                       validation_split=0.25,callbacks=callbacks_earlystopping,verbose=True)"
   ]
  },
  {
   "cell_type": "code",
   "execution_count": 49,
   "metadata": {
    "collapsed": false
   },
   "outputs": [
    {
     "data": {
      "image/png": "[encoded data removed]",
      "text/plain": [
       "<matplotlib.figure.Figure at 0x1f528f16ef0>"
      ]
     },
     "metadata": {},
     "output_type": "display_data"
    }
   ],
   "source": [
    "plt.plot(history.history['val_loss'])\n",
    "plt.plot(history.history['loss'])\n",
    "plt.legend(['val_loss','loss'])\n",
    "plt.xlabel('epoch')\n",
    "plt.ylabel('loss')\n",
    "plt.show()"
   ]
  },
  {
   "cell_type": "code",
   "execution_count": 50,
   "metadata": {
    "collapsed": true
   },
   "outputs": [
    {
     "name": "stderr",
     "output_type": "stream",
     "text": [
      "ERROR:root:Internal Python error in the inspect module.\n",
      "Below is the traceback from this internal error.\n",
      "\n"
     ]
    },
    {
     "name": "stdout",
     "output_type": "stream",
     "text": [
      "Traceback (most recent call last):\n",
      "  File \"F:\\Softwares\\Anaconda\\install\\lib\\site-packages\\IPython\\core\\interactiveshell.py\", line 2881, in run_code\n",
      "    exec(code_obj, self.user_global_ns, self.user_ns)\n",
      "  File \"<ipython-input-50-ddd3f8891763>\", line 8, in <module>\n",
      "    test_X=test_X.append(create_many_features(seg_data.acoustic_data,seg_id=seg_id),\n",
      "  File \"<ipython-input-8-cb923bc0b4c3>\", line 134, in create_many_features\n",
      "    X.loc[seg_id, 'abs_max_roll_mean_' + str(windows)] = np.abs(x_roll_mean).max()\n",
      "KeyboardInterrupt\n",
      "\n",
      "During handling of the above exception, another exception occurred:\n",
      "\n",
      "Traceback (most recent call last):\n",
      "  File \"F:\\Softwares\\Anaconda\\install\\lib\\site-packages\\IPython\\core\\interactiveshell.py\", line 1821, in showtraceback\n",
      "    stb = value._render_traceback_()\n",
      "AttributeError: 'KeyboardInterrupt' object has no attribute '_render_traceback_'\n",
      "\n",
      "During handling of the above exception, another exception occurred:\n",
      "\n",
      "Traceback (most recent call last):\n",
      "  File \"F:\\Softwares\\Anaconda\\install\\lib\\site-packages\\IPython\\core\\ultratb.py\", line 1132, in get_records\n",
      "    return _fixed_getinnerframes(etb, number_of_lines_of_context, tb_offset)\n",
      "  File \"F:\\Softwares\\Anaconda\\install\\lib\\site-packages\\IPython\\core\\ultratb.py\", line 313, in wrapped\n",
      "    return f(*args, **kwargs)\n",
      "  File \"F:\\Softwares\\Anaconda\\install\\lib\\site-packages\\IPython\\core\\ultratb.py\", line 358, in _fixed_getinnerframes\n",
      "    records = fix_frame_records_filenames(inspect.getinnerframes(etb, context))\n",
      "  File \"F:\\Softwares\\Anaconda\\install\\lib\\inspect.py\", line 1459, in getinnerframes\n",
      "    frameinfo = (tb.tb_frame,) + getframeinfo(tb, context)\n",
      "  File \"F:\\Softwares\\Anaconda\\install\\lib\\inspect.py\", line 1417, in getframeinfo\n",
      "    filename = getsourcefile(frame) or getfile(frame)\n",
      "  File \"F:\\Softwares\\Anaconda\\install\\lib\\inspect.py\", line 677, in getsourcefile\n",
      "    if getattr(getmodule(object, filename), '__loader__', None) is not None:\n",
      "  File \"F:\\Softwares\\Anaconda\\install\\lib\\inspect.py\", line 720, in getmodule\n",
      "    f = getabsfile(module)\n",
      "  File \"F:\\Softwares\\Anaconda\\install\\lib\\inspect.py\", line 689, in getabsfile\n",
      "    _filename = getsourcefile(object) or getfile(object)\n",
      "  File \"F:\\Softwares\\Anaconda\\install\\lib\\inspect.py\", line 674, in getsourcefile\n",
      "    if os.path.exists(filename):\n",
      "  File \"F:\\Softwares\\Anaconda\\install\\lib\\genericpath.py\", line 19, in exists\n",
      "    os.stat(path)\n",
      "KeyboardInterrupt\n"
     ]
    },
    {
     "ename": "KeyboardInterrupt",
     "evalue": "",
     "output_type": "error",
     "traceback": [
      "\u001b[0;31m---------------------------------------------------------------------------\u001b[0m"
     ]
    }
   ],
   "source": [
    "test_X_seg_ids=pd.read_csv('F:\\\\Qplus\\\\Kaggle\\\\sample_submission.csv',\n",
    "                           dtype={'time_to_failure':np.float32},index_col='seg_id')\n",
    "test_X=pd.DataFrame()\n",
    "for seg_id in test_X_seg_ids.index.values:\n",
    "    #print(type(seg_id))\n",
    "    seg_data=pd.read_csv('F:\\\\Qplus\\\\Kaggle\\\\test\\\\'+seg_id+'.csv',\n",
    "                         dtype={'acoustic_data':np.float32})\n",
    "    test_X=test_X.append(create_many_features(seg_data.acoustic_data,seg_id=seg_id),\n",
    "                         ignore_index=True)"
   ]
  },
  {
   "cell_type": "code",
   "execution_count": 92,
   "metadata": {
    "collapsed": true
   },
   "outputs": [],
   "source": [
    "scaler=StandardScaler()\n",
    "scaler.fit(Merged_X)\n",
    "train_X_scaled=scaler.transform(train_X)\n",
    "test_X_scaled=scaler.transform(test_X)\n",
    "test_X_scaled_transformed = test_X_scaled.reshape(test_X_scaled.shape[0],\n",
    "                                                  test_X_scaled.shape[1], 1)"
   ]
  },
  {
   "cell_type": "code",
   "execution_count": 51,
   "metadata": {
    "collapsed": false
   },
   "outputs": [],
   "source": [
    "# test data should go through the same PCA reduction process\n",
    "pca=PCA(n_components=32)\n",
    "test_X_dim_reduced=pca.fit_transform(test_X_scaled)"
   ]
  },
  {
   "cell_type": "code",
   "execution_count": 52,
   "metadata": {
    "collapsed": false
   },
   "outputs": [],
   "source": [
    "test_X_dim_reduced_transformed= test_X_dim_reduced.reshape(test_X_dim_reduced.shape[0],\n",
    "                                                  test_X_dim_reduced.shape[1], 1)\n",
    "predict_y=LSTM_model.predict(test_X_dim_reduced_transformed)"
   ]
  },
  {
   "cell_type": "code",
   "execution_count": 53,
   "metadata": {
    "collapsed": true
   },
   "outputs": [
    {
     "data": {
      "text/plain": [
       "array([[7.4749517],\n",
       "       [4.354404 ],\n",
       "       [3.7860637],\n",
       "       [5.8664513],\n",
       "       [5.6832113],\n",
       "       [2.109941 ],\n",
       "       [7.0028234],\n",
       "       [5.3850613],\n",
       "       [7.1373305],\n",
       "       [2.8139114]], dtype=float32)"
      ]
     },
     "execution_count": 53,
     "metadata": {},
     "output_type": "execute_result"
    }
   ],
   "source": [
    "predict_y[:10]"
   ]
  },
  {
   "cell_type": "code",
   "execution_count": 54,
   "metadata": {
    "collapsed": true
   },
   "outputs": [],
   "source": [
    "submission['time_to_failure'] = predict_y\n",
    "submission.to_csv('F:\\\\Qplus\\\\Kaggle\\\\submission_1.csv',index=True)"
   ]
  },
  {
   "cell_type": "code",
   "execution_count": null,
   "metadata": {
    "collapsed": true
   },
   "outputs": [],
   "source": []
  },
  {
   "cell_type": "code",
   "execution_count": 55,
   "metadata": {
    "collapsed": false
   },
   "outputs": [],
   "source": [
    "from sklearn.svm import SVR\n",
    "from sklearn.model_selection import GridSearchCV"
   ]
  },
  {
   "cell_type": "code",
   "execution_count": 56,
   "metadata": {
    "collapsed": true
   },
   "outputs": [],
   "source": [
    "svr_parameters={'kernel':['linear','rbf'],\n",
    "                'gamma':[0.001, 0.005, 0.01, 0.02, 0.05, 0.1],\n",
    "                'C':[0.1, 0.2, 0.25, 0.5, 1, 1.5, 2, 5]}"
   ]
  },
  {
   "cell_type": "code",
   "execution_count": 57,
   "metadata": {
    "collapsed": false
   },
   "outputs": [
    {
     "data": {
      "text/plain": [
       "SVR(C=1.0, cache_size=200, coef0=0.0, degree=3, epsilon=0.1,\n",
       "  gamma='auto_deprecated', kernel='rbf', max_iter=-1, shrinking=True,\n",
       "  tol=0.001, verbose=False)"
      ]
     },
     "execution_count": 57,
     "metadata": {},
     "output_type": "execute_result"
    }
   ],
   "source": [
    "svr=SVR(kernel='rbf')\n",
    "svr.fit(train_X_scaled,train_y)"
   ]
  },
  {
   "cell_type": "code",
   "execution_count": 58,
   "metadata": {
    "collapsed": false
   },
   "outputs": [
    {
     "data": {
      "text/plain": [
       "array([1.92820912, 1.92820912, 1.92820912])"
      ]
     },
     "execution_count": 58,
     "metadata": {},
     "output_type": "execute_result"
    }
   ],
   "source": [
    "svr.predict(test_X)"
   ]
  },
  {
   "cell_type": "code",
   "execution_count": 73,
   "metadata": {
    "collapsed": true
   },
   "outputs": [],
   "source": [
    "svr_parameters={'kernel':['linear','rbf'],\n",
    "                'gamma':[0.0001, 0.001, 0.1],\n",
    "                'C':[0.1,  5, 50],\n",
    "               'epsilon':[0.01,0.1,1,10]}"
   ]
  },
  {
   "cell_type": "code",
   "execution_count": 74,
   "metadata": {
    "collapsed": false
   },
   "outputs": [
    {
     "data": {
      "text/plain": [
       "GridSearchCV(cv=4, error_score='raise-deprecating',\n",
       "       estimator=SVR(C=1.0, cache_size=200, coef0=0.0, degree=3, epsilon=0.1,\n",
       "  gamma='auto_deprecated', kernel='rbf', max_iter=-1, shrinking=True,\n",
       "  tol=0.001, verbose=False),\n",
       "       fit_params=None, iid='warn', n_jobs=None,\n",
       "       param_grid={'epsilon': [0.01, 0.1, 1, 10], 'C': [0.1, 5, 50], 'kernel': ['linear', 'rbf'], 'gamma': [0.0001, 0.001, 0.1]},\n",
       "       pre_dispatch='2*n_jobs', refit=True, return_train_score='warn',\n",
       "       scoring='neg_mean_absolute_error', verbose=0)"
      ]
     },
     "execution_count": 74,
     "metadata": {},
     "output_type": "execute_result"
    }
   ],
   "source": [
    "gcv=GridSearchCV(svr,param_grid=svr_parameters,scoring='neg_mean_absolute_error',cv=4)\n",
    "gcv.fit(X_dim_reduced,train_y)"
   ]
  },
  {
   "cell_type": "code",
   "execution_count": 75,
   "metadata": {
    "collapsed": false
   },
   "outputs": [
    {
     "data": {
      "text/plain": [
       "{'C': 5, 'epsilon': 1, 'gamma': 0.001, 'kernel': 'rbf'}"
      ]
     },
     "execution_count": 75,
     "metadata": {},
     "output_type": "execute_result"
    }
   ],
   "source": [
    "gcv.best_params_"
   ]
  },
  {
   "cell_type": "code",
   "execution_count": 76,
   "metadata": {
    "collapsed": false
   },
   "outputs": [
    {
     "data": {
      "text/plain": [
       "-2.183331088027308"
      ]
     },
     "execution_count": 76,
     "metadata": {},
     "output_type": "execute_result"
    }
   ],
   "source": [
    "gcv.best_score_"
   ]
  },
  {
   "cell_type": "code",
   "execution_count": 77,
   "metadata": {
    "collapsed": false
   },
   "outputs": [
    {
     "data": {
      "text/plain": [
       "SVR(C=5, cache_size=200, coef0=0.0, degree=3, epsilon=1, gamma=0.001,\n",
       "  kernel='rbf', max_iter=-1, shrinking=True, tol=0.001, verbose=False)"
      ]
     },
     "execution_count": 77,
     "metadata": {},
     "output_type": "execute_result"
    }
   ],
   "source": [
    "gcv.best_estimator_"
   ]
  },
  {
   "cell_type": "code",
   "execution_count": 78,
   "metadata": {
    "collapsed": false
   },
   "outputs": [
    {
     "data": {
      "text/plain": [
       "array([6.29408305, 5.00437331, 5.31831826, ..., 6.43610776, 6.62392604,\n",
       "       3.63306281])"
      ]
     },
     "execution_count": 78,
     "metadata": {},
     "output_type": "execute_result"
    }
   ],
   "source": [
    "gcv.predict(test_X_dim_reduced)"
   ]
  },
  {
   "cell_type": "code",
   "execution_count": null,
   "metadata": {
    "collapsed": true
   },
   "outputs": [],
   "source": []
  }
 ],
 "metadata": {
  "anaconda-cloud": {},
  "kernelspec": {
   "display_name": "Python [default]",
   "language": "python",
   "name": "python3"
  },
  "language_info": {
   "codemirror_mode": {
    "name": "ipython",
    "version": 3
   },
   "file_extension": ".py",
   "mimetype": "text/x-python",
   "name": "python",
   "nbconvert_exporter": "python",
   "pygments_lexer": "ipython3",
   "version": "3.5.6"
  }
 },
 "nbformat": 4,
 "nbformat_minor": 2
}
